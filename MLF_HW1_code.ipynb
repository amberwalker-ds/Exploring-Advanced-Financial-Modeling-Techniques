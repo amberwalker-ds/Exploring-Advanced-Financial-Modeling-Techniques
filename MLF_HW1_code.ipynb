{
  "cells": [
    {
      "cell_type": "markdown",
      "metadata": {
        "id": "ruM8idCXyA-c"
      },
      "source": [
        "![bse_logo_textminingcourse](https://bse.eu/sites/default/files/bse_logo_small.png)\n",
        "\n",
        "# Machine Learning for Finance - Assignment 1\n",
        "\n",
        "### by Amber Walker and Clarice Mottet\n",
        "### All work was distributed and completed equally.\n",
        "\n",
        "0. **[Part 0: Set Up and Import](#part0)**\n",
        "- **Objective**: Initialize programming environment and data.\n",
        "- **Tasks:**\n",
        "  - Initialize libraries.\n",
        "  - Import data into the programming environment.\n",
        "  - Conduct preprocessing.\n",
        "\n",
        "1. **[Part 1: EWMA Based Variance](#part1)**\n",
        "- **Objective**: Compare two models to calculate EWMA Based Variance\n",
        "- **Tasks:**\n",
        "  - EWMA Equation: Use the equation covered in class to calculate EWMA based variance.\n",
        "  - EWMA Recursion: Use the recursive formula definition to calculate EWMA based variance.\n",
        "  - Compare the two methods to calculate EWMA based variance.\n",
        "\n",
        "2. **[Part 2: Causality Analysis](#part2)**\n",
        "- **Objective**: Conduct causality analysis with multiple lag variables and time frame windows.\n",
        "- **Tasks:**\n",
        "  - task list here\n",
        "\n",
        "3. **[Part 3: Modeling](#part3)**\n",
        "- **Objective**: Create a neural network and a gaussian process regression to model return, price, or direction (up or down).\n",
        "- **Tasks:**\n",
        "  - (I think we should predict a binary outcome of the stock direction goes up or down personally)\n",
        "  - Feature creation: Create multiple types of lag variables for different lag amounts.\n",
        "  - Feature selection: (I'd suggest a good old random forest cause I personally love a random forest feature selection or an XGBoost feature selection).\n",
        "  - Create a neural network, discuss hyper parameter tuning.\n",
        "  - Create a gaussian process, discuss hyper parameter tuning.\n",
        "\n",
        "4. **[Part 4: Further Analysis](#part4)**\n",
        "- **Objective**: Discuss modeling aspects and compare methods.\n",
        "- **Tasks:**\n",
        "  - Create an ARMA model and compare to the neural network and gaussian process.\n",
        "  - Discuss if bootstrapping would aid model performance and efficacy and what modeling would look like with the incorporation of stationary bootstrapping.\n"
      ]
    },
    {
      "cell_type": "markdown",
      "metadata": {
        "id": "rsl5YiZvyA-g"
      },
      "source": [
        "## <a id='part0'>Part 0: Set Up and Import</a>\n",
        "- **Objective**: Initialize programming environment and data.\n",
        "- **Tasks:**\n",
        "  - Initialize libraries.\n",
        "  - Import data into the programming environment.\n",
        "  - Conduct preprocessing."
      ]
    },
    {
      "cell_type": "code",
      "execution_count": 1,
      "metadata": {
        "colab": {
          "base_uri": "https://localhost:8080/"
        },
        "id": "iqtrIh5xyA-h",
        "outputId": "43b26305-6c61-4fb0-a814-6b62c35f8e5d"
      },
      "outputs": [],
      "source": [
        "#Libraries\n",
        "import pandas as pd\n",
        "import numpy as np\n",
        "import os\n",
        "import gc\n",
        "import datetime\n",
        "import yfinance as yf\n",
        "# from google.colab import drive\n",
        "# drive.mount('/content/drive')\n",
        "\n",
        "#Paths\n",
        "path_in_ = r'/home/clarice/Documents/VSCode/Term3/ML_Finance/MLF_HW1/inputs/'\n",
        "path_out_ = r'/home/clarice/Documents/VSCode/Term3/ML_Finance/MLF_HW1/outputs/'\n",
        "# path_in_ = r'/content/drive/MyDrive/ML_Finance/MLF_HW1/inputs/'\n",
        "# path_out_ = r'/content/drive/MyDrive/ML_Finance/MLF_HW1/outputs/'\n",
        "\n",
        "#Global Variables\n",
        "\n",
        "#used in EWMA calculations\n",
        "PARAM_LAMBDA = .94\n",
        "PARAM_M = 20"
      ]
    },
    {
      "cell_type": "code",
      "execution_count": 27,
      "metadata": {
        "colab": {
          "base_uri": "https://localhost:8080/",
          "height": 300
        },
        "id": "FiuTg3q2yA-i",
        "outputId": "b6a2e9ff-3784-45c8-922c-e16e38cdaeea"
      },
      "outputs": [
        {
          "data": {
            "text/html": [
              "<div>\n",
              "<style scoped>\n",
              "    .dataframe tbody tr th:only-of-type {\n",
              "        vertical-align: middle;\n",
              "    }\n",
              "\n",
              "    .dataframe tbody tr th {\n",
              "        vertical-align: top;\n",
              "    }\n",
              "\n",
              "    .dataframe thead th {\n",
              "        text-align: right;\n",
              "    }\n",
              "</style>\n",
              "<table border=\"1\" class=\"dataframe\">\n",
              "  <thead>\n",
              "    <tr style=\"text-align: right;\">\n",
              "      <th></th>\n",
              "      <th>open</th>\n",
              "      <th>high</th>\n",
              "      <th>low</th>\n",
              "      <th>close</th>\n",
              "      <th>volume</th>\n",
              "      <th>adjusted</th>\n",
              "      <th>date</th>\n",
              "    </tr>\n",
              "  </thead>\n",
              "  <tbody>\n",
              "    <tr>\n",
              "      <th>count</th>\n",
              "      <td>69035.000000</td>\n",
              "      <td>69035.000000</td>\n",
              "      <td>69035.000000</td>\n",
              "      <td>69035.000000</td>\n",
              "      <td>6.903500e+04</td>\n",
              "      <td>69035.000000</td>\n",
              "      <td>70078</td>\n",
              "    </tr>\n",
              "    <tr>\n",
              "      <th>mean</th>\n",
              "      <td>11464.128611</td>\n",
              "      <td>11555.368887</td>\n",
              "      <td>11366.426424</td>\n",
              "      <td>11462.595335</td>\n",
              "      <td>4.028610e+08</td>\n",
              "      <td>11462.588664</td>\n",
              "      <td>2009-08-02 18:18:57.361225984</td>\n",
              "    </tr>\n",
              "    <tr>\n",
              "      <th>min</th>\n",
              "      <td>9.010000</td>\n",
              "      <td>9.310000</td>\n",
              "      <td>8.560000</td>\n",
              "      <td>9.140000</td>\n",
              "      <td>0.000000e+00</td>\n",
              "      <td>9.140000</td>\n",
              "      <td>1999-01-04 00:00:00</td>\n",
              "    </tr>\n",
              "    <tr>\n",
              "      <th>25%</th>\n",
              "      <td>1891.545044</td>\n",
              "      <td>1907.417481</td>\n",
              "      <td>1872.669983</td>\n",
              "      <td>1890.239990</td>\n",
              "      <td>8.400000e+03</td>\n",
              "      <td>1890.239990</td>\n",
              "      <td>2004-03-19 00:00:00</td>\n",
              "    </tr>\n",
              "    <tr>\n",
              "      <th>50%</th>\n",
              "      <td>6737.540039</td>\n",
              "      <td>6785.109863</td>\n",
              "      <td>6682.490234</td>\n",
              "      <td>6733.229980</td>\n",
              "      <td>4.237800e+06</td>\n",
              "      <td>6733.204102</td>\n",
              "      <td>2009-07-21 00:00:00</td>\n",
              "    </tr>\n",
              "    <tr>\n",
              "      <th>75%</th>\n",
              "      <td>11869.479981</td>\n",
              "      <td>11951.899903</td>\n",
              "      <td>11773.080078</td>\n",
              "      <td>11867.850098</td>\n",
              "      <td>1.535236e+08</td>\n",
              "      <td>11867.850098</td>\n",
              "      <td>2014-12-09 00:00:00</td>\n",
              "    </tr>\n",
              "    <tr>\n",
              "      <th>max</th>\n",
              "      <td>119528.000000</td>\n",
              "      <td>119593.000000</td>\n",
              "      <td>118108.000000</td>\n",
              "      <td>119528.000000</td>\n",
              "      <td>1.145623e+10</td>\n",
              "      <td>119528.000000</td>\n",
              "      <td>2020-04-30 00:00:00</td>\n",
              "    </tr>\n",
              "    <tr>\n",
              "      <th>std</th>\n",
              "      <td>15447.245090</td>\n",
              "      <td>15581.477219</td>\n",
              "      <td>15309.464143</td>\n",
              "      <td>15448.944086</td>\n",
              "      <td>9.914707e+08</td>\n",
              "      <td>15448.946777</td>\n",
              "      <td>NaN</td>\n",
              "    </tr>\n",
              "  </tbody>\n",
              "</table>\n",
              "</div>"
            ],
            "text/plain": [
              "                open           high            low          close  \\\n",
              "count   69035.000000   69035.000000   69035.000000   69035.000000   \n",
              "mean    11464.128611   11555.368887   11366.426424   11462.595335   \n",
              "min         9.010000       9.310000       8.560000       9.140000   \n",
              "25%      1891.545044    1907.417481    1872.669983    1890.239990   \n",
              "50%      6737.540039    6785.109863    6682.490234    6733.229980   \n",
              "75%     11869.479981   11951.899903   11773.080078   11867.850098   \n",
              "max    119528.000000  119593.000000  118108.000000  119528.000000   \n",
              "std     15447.245090   15581.477219   15309.464143   15448.944086   \n",
              "\n",
              "             volume       adjusted                           date  \n",
              "count  6.903500e+04   69035.000000                          70078  \n",
              "mean   4.028610e+08   11462.588664  2009-08-02 18:18:57.361225984  \n",
              "min    0.000000e+00       9.140000            1999-01-04 00:00:00  \n",
              "25%    8.400000e+03    1890.239990            2004-03-19 00:00:00  \n",
              "50%    4.237800e+06    6733.204102            2009-07-21 00:00:00  \n",
              "75%    1.535236e+08   11867.850098            2014-12-09 00:00:00  \n",
              "max    1.145623e+10  119528.000000            2020-04-30 00:00:00  \n",
              "std    9.914707e+08   15448.946777                            NaN  "
            ]
          },
          "execution_count": 27,
          "metadata": {},
          "output_type": "execute_result"
        }
      ],
      "source": [
        "#Import\n",
        "\n",
        "#using a text file we created from an R file\n",
        "df_market = pd.read_csv(path_in_ + 'WorldMarkets99_20.txt', sep = '|', dtype = str)\n",
        "df_market.columns = df_market.columns.str.lower().str.strip()\n",
        "df_market[['open','high','low','close','volume','adjusted']] = df_market[['open','high','low','close','volume','adjusted']].apply(pd.to_numeric)\n",
        "df_market['date'] = pd.to_datetime(df_market['date'])\n",
        "df_market.sort_values(by = ['market','date'], inplace = True)\n",
        "df_market.reset_index(drop = True, inplace = True)\n",
        "\n",
        "df_market.describe()"
      ]
    },
    {
      "cell_type": "markdown",
      "metadata": {
        "id": "ZriVPhFywn9r"
      },
      "source": [
        "First, we fetch the data from 12/30/98 for each market and add it to our df so that we can .ffill() that data to the first missing values. There is no data for the 31st, so we get the data for the 30th."
      ]
    },
    {
      "cell_type": "code",
      "execution_count": 6,
      "metadata": {
        "id": "cl9_AKrSIatF"
      },
      "outputs": [],
      "source": [
        "#fetch the data for 12/30/98\n",
        "market_symbols = [\n",
        "    \"^BSESN\", \"^BVSP\", \"^FTSE\", \"^GDAXI\", \"^GSPC\", \"^HSCE\",\n",
        "    \"^IBEX\", \"^JKSE\", \"^MXX\", \"^N225\", \"^TWII\", \"^VLIC\", \"^VIX\"\n",
        "]\n",
        "market_countries = [\n",
        "    \"India\", \"Brazil\", \"UK\", \"Germany\", \"USA\", \"China-Shanghai\",\n",
        "    \"Spain\", \"Indonesia\", \"Mexico\", \"Japan\", \"Taiwan\", \"VLIC\", \"VIX\"\n",
        "]\n",
        "\n",
        "start_date = datetime.datetime(1998, 12, 30)\n",
        "end_date = datetime.datetime(1998, 12, 31)\n",
        "\n",
        "# Function to retrieve and store market data using yfinance\n",
        "def get_market_data(symbols, start, end):\n",
        "    data = {}\n",
        "    for symbol in symbols:\n",
        "        try:\n",
        "            ticker = yf.Ticker(symbol)\n",
        "            data[symbol] = ticker.history(start=start, end=end, auto_adjust=False)\n",
        "        except Exception as e:\n",
        "            print(f\"Failed to retrieve data for {symbol}: {str(e)}\")\n",
        "    return data\n",
        "\n",
        "def prepare_data_for_merge(day_before_data):\n",
        "    all_data = []\n",
        "    for symbol, df in day_before_data.items():\n",
        "        if not df.empty:\n",
        "            df['market'] = symbol  # Add a 'Symbol' column to each DataFrame\n",
        "            all_data.append(df)\n",
        "    combined_df = pd.concat(all_data)\n",
        "    return combined_df"
      ]
    },
    {
      "cell_type": "code",
      "execution_count": 7,
      "metadata": {
        "id": "MU0mls0CLtff"
      },
      "outputs": [],
      "source": [
        "#get market data\n",
        "day_before_data = get_market_data(market_symbols, start_date, end_date)\n",
        "\n",
        "# for symbol in market_symbols:\n",
        "#   print(day_before_data[symbol])\n",
        "\n",
        "combined_df = prepare_data_for_merge(day_before_data)"
      ]
    },
    {
      "cell_type": "code",
      "execution_count": 8,
      "metadata": {
        "colab": {
          "base_uri": "https://localhost:8080/",
          "height": 342
        },
        "id": "ENOpJQhkOFL9",
        "outputId": "91a3a27b-4d0c-4904-e19a-ec68a5c9e118"
      },
      "outputs": [
        {
          "data": {
            "text/html": [
              "<div>\n",
              "<style scoped>\n",
              "    .dataframe tbody tr th:only-of-type {\n",
              "        vertical-align: middle;\n",
              "    }\n",
              "\n",
              "    .dataframe tbody tr th {\n",
              "        vertical-align: top;\n",
              "    }\n",
              "\n",
              "    .dataframe thead th {\n",
              "        text-align: right;\n",
              "    }\n",
              "</style>\n",
              "<table border=\"1\" class=\"dataframe\">\n",
              "  <thead>\n",
              "    <tr style=\"text-align: right;\">\n",
              "      <th></th>\n",
              "      <th>Open</th>\n",
              "      <th>High</th>\n",
              "      <th>Low</th>\n",
              "      <th>Close</th>\n",
              "      <th>Adj Close</th>\n",
              "      <th>Volume</th>\n",
              "      <th>Dividends</th>\n",
              "      <th>Stock Splits</th>\n",
              "      <th>market</th>\n",
              "      <th>Capital Gains</th>\n",
              "    </tr>\n",
              "    <tr>\n",
              "      <th>Date</th>\n",
              "      <th></th>\n",
              "      <th></th>\n",
              "      <th></th>\n",
              "      <th></th>\n",
              "      <th></th>\n",
              "      <th></th>\n",
              "      <th></th>\n",
              "      <th></th>\n",
              "      <th></th>\n",
              "      <th></th>\n",
              "    </tr>\n",
              "  </thead>\n",
              "  <tbody>\n",
              "    <tr>\n",
              "      <th>1998-12-30 00:00:00+05:30</th>\n",
              "      <td>3074.439941</td>\n",
              "      <td>3118.590088</td>\n",
              "      <td>3072.610107</td>\n",
              "      <td>3110.330078</td>\n",
              "      <td>3110.330078</td>\n",
              "      <td>0</td>\n",
              "      <td>0.0</td>\n",
              "      <td>0.0</td>\n",
              "      <td>^BSESN</td>\n",
              "      <td>NaN</td>\n",
              "    </tr>\n",
              "    <tr>\n",
              "      <th>1998-12-30 00:00:00-02:00</th>\n",
              "      <td>6715.000000</td>\n",
              "      <td>6865.000000</td>\n",
              "      <td>6712.000000</td>\n",
              "      <td>6784.000000</td>\n",
              "      <td>6784.000000</td>\n",
              "      <td>0</td>\n",
              "      <td>0.0</td>\n",
              "      <td>0.0</td>\n",
              "      <td>^BVSP</td>\n",
              "      <td>NaN</td>\n",
              "    </tr>\n",
              "    <tr>\n",
              "      <th>1998-12-30 00:00:00+00:00</th>\n",
              "      <td>5932.700195</td>\n",
              "      <td>5944.899902</td>\n",
              "      <td>5809.000000</td>\n",
              "      <td>5882.600098</td>\n",
              "      <td>5882.600098</td>\n",
              "      <td>0</td>\n",
              "      <td>0.0</td>\n",
              "      <td>0.0</td>\n",
              "      <td>^FTSE</td>\n",
              "      <td>NaN</td>\n",
              "    </tr>\n",
              "    <tr>\n",
              "      <th>1998-12-30 00:00:00+01:00</th>\n",
              "      <td>5054.859863</td>\n",
              "      <td>5089.229980</td>\n",
              "      <td>4999.709961</td>\n",
              "      <td>5006.569824</td>\n",
              "      <td>5006.569824</td>\n",
              "      <td>0</td>\n",
              "      <td>0.0</td>\n",
              "      <td>0.0</td>\n",
              "      <td>^GDAXI</td>\n",
              "      <td>NaN</td>\n",
              "    </tr>\n",
              "    <tr>\n",
              "      <th>1998-12-30 00:00:00-05:00</th>\n",
              "      <td>1241.810059</td>\n",
              "      <td>1244.930054</td>\n",
              "      <td>1231.199951</td>\n",
              "      <td>1231.930054</td>\n",
              "      <td>1231.930054</td>\n",
              "      <td>594220000</td>\n",
              "      <td>0.0</td>\n",
              "      <td>0.0</td>\n",
              "      <td>^GSPC</td>\n",
              "      <td>NaN</td>\n",
              "    </tr>\n",
              "  </tbody>\n",
              "</table>\n",
              "</div>"
            ],
            "text/plain": [
              "                                  Open         High          Low        Close  \\\n",
              "Date                                                                            \n",
              "1998-12-30 00:00:00+05:30  3074.439941  3118.590088  3072.610107  3110.330078   \n",
              "1998-12-30 00:00:00-02:00  6715.000000  6865.000000  6712.000000  6784.000000   \n",
              "1998-12-30 00:00:00+00:00  5932.700195  5944.899902  5809.000000  5882.600098   \n",
              "1998-12-30 00:00:00+01:00  5054.859863  5089.229980  4999.709961  5006.569824   \n",
              "1998-12-30 00:00:00-05:00  1241.810059  1244.930054  1231.199951  1231.930054   \n",
              "\n",
              "                             Adj Close     Volume  Dividends  Stock Splits  \\\n",
              "Date                                                                         \n",
              "1998-12-30 00:00:00+05:30  3110.330078          0        0.0           0.0   \n",
              "1998-12-30 00:00:00-02:00  6784.000000          0        0.0           0.0   \n",
              "1998-12-30 00:00:00+00:00  5882.600098          0        0.0           0.0   \n",
              "1998-12-30 00:00:00+01:00  5006.569824          0        0.0           0.0   \n",
              "1998-12-30 00:00:00-05:00  1231.930054  594220000        0.0           0.0   \n",
              "\n",
              "                           market  Capital Gains  \n",
              "Date                                              \n",
              "1998-12-30 00:00:00+05:30  ^BSESN            NaN  \n",
              "1998-12-30 00:00:00-02:00   ^BVSP            NaN  \n",
              "1998-12-30 00:00:00+00:00   ^FTSE            NaN  \n",
              "1998-12-30 00:00:00+01:00  ^GDAXI            NaN  \n",
              "1998-12-30 00:00:00-05:00   ^GSPC            NaN  "
            ]
          },
          "execution_count": 8,
          "metadata": {},
          "output_type": "execute_result"
        }
      ],
      "source": [
        "combined_df.head()"
      ]
    },
    {
      "cell_type": "code",
      "execution_count": 9,
      "metadata": {
        "colab": {
          "base_uri": "https://localhost:8080/",
          "height": 206
        },
        "id": "basK30FhOttq",
        "outputId": "64347577-9966-4c3b-d425-0d0e25877642"
      },
      "outputs": [
        {
          "data": {
            "text/html": [
              "<div>\n",
              "<style scoped>\n",
              "    .dataframe tbody tr th:only-of-type {\n",
              "        vertical-align: middle;\n",
              "    }\n",
              "\n",
              "    .dataframe tbody tr th {\n",
              "        vertical-align: top;\n",
              "    }\n",
              "\n",
              "    .dataframe thead th {\n",
              "        text-align: right;\n",
              "    }\n",
              "</style>\n",
              "<table border=\"1\" class=\"dataframe\">\n",
              "  <thead>\n",
              "    <tr style=\"text-align: right;\">\n",
              "      <th></th>\n",
              "      <th>date</th>\n",
              "      <th>open</th>\n",
              "      <th>high</th>\n",
              "      <th>low</th>\n",
              "      <th>close</th>\n",
              "      <th>adjusted</th>\n",
              "      <th>volume</th>\n",
              "      <th>market</th>\n",
              "    </tr>\n",
              "  </thead>\n",
              "  <tbody>\n",
              "    <tr>\n",
              "      <th>0</th>\n",
              "      <td>1998-12-29</td>\n",
              "      <td>3074.439941</td>\n",
              "      <td>3118.590088</td>\n",
              "      <td>3072.610107</td>\n",
              "      <td>3110.330078</td>\n",
              "      <td>3110.330078</td>\n",
              "      <td>0</td>\n",
              "      <td>BSESN</td>\n",
              "    </tr>\n",
              "    <tr>\n",
              "      <th>1</th>\n",
              "      <td>1998-12-30</td>\n",
              "      <td>6715.000000</td>\n",
              "      <td>6865.000000</td>\n",
              "      <td>6712.000000</td>\n",
              "      <td>6784.000000</td>\n",
              "      <td>6784.000000</td>\n",
              "      <td>0</td>\n",
              "      <td>BVSP</td>\n",
              "    </tr>\n",
              "    <tr>\n",
              "      <th>2</th>\n",
              "      <td>1998-12-30</td>\n",
              "      <td>5932.700195</td>\n",
              "      <td>5944.899902</td>\n",
              "      <td>5809.000000</td>\n",
              "      <td>5882.600098</td>\n",
              "      <td>5882.600098</td>\n",
              "      <td>0</td>\n",
              "      <td>FTSE</td>\n",
              "    </tr>\n",
              "    <tr>\n",
              "      <th>3</th>\n",
              "      <td>1998-12-29</td>\n",
              "      <td>5054.859863</td>\n",
              "      <td>5089.229980</td>\n",
              "      <td>4999.709961</td>\n",
              "      <td>5006.569824</td>\n",
              "      <td>5006.569824</td>\n",
              "      <td>0</td>\n",
              "      <td>GDAXI</td>\n",
              "    </tr>\n",
              "    <tr>\n",
              "      <th>4</th>\n",
              "      <td>1998-12-30</td>\n",
              "      <td>1241.810059</td>\n",
              "      <td>1244.930054</td>\n",
              "      <td>1231.199951</td>\n",
              "      <td>1231.930054</td>\n",
              "      <td>1231.930054</td>\n",
              "      <td>594220000</td>\n",
              "      <td>GSPC</td>\n",
              "    </tr>\n",
              "  </tbody>\n",
              "</table>\n",
              "</div>"
            ],
            "text/plain": [
              "         date         open         high          low        close  \\\n",
              "0  1998-12-29  3074.439941  3118.590088  3072.610107  3110.330078   \n",
              "1  1998-12-30  6715.000000  6865.000000  6712.000000  6784.000000   \n",
              "2  1998-12-30  5932.700195  5944.899902  5809.000000  5882.600098   \n",
              "3  1998-12-29  5054.859863  5089.229980  4999.709961  5006.569824   \n",
              "4  1998-12-30  1241.810059  1244.930054  1231.199951  1231.930054   \n",
              "\n",
              "      adjusted     volume market  \n",
              "0  3110.330078          0  BSESN  \n",
              "1  6784.000000          0   BVSP  \n",
              "2  5882.600098          0   FTSE  \n",
              "3  5006.569824          0  GDAXI  \n",
              "4  1231.930054  594220000   GSPC  "
            ]
          },
          "metadata": {},
          "output_type": "display_data"
        }
      ],
      "source": [
        "#clean data\n",
        "combined_df = combined_df.drop(columns=['Dividends', 'Stock Splits', 'Capital Gains'])\n",
        "combined_df = combined_df.reset_index()\n",
        "combined_df.rename(columns={'index': 'date'}, inplace=True)\n",
        "combined_df.rename(columns={'Adj Close': 'adjusted'}, inplace=True)\n",
        "combined_df.columns = combined_df.columns.str.lower()\n",
        "combined_df['market'] = combined_df['market'].str.replace('^', '', regex=False)\n",
        "\n",
        "#remove the timezone\n",
        "if 'date' in combined_df.columns:\n",
        "    combined_df['date'] = pd.to_datetime(combined_df['date'], utc=True)\n",
        "    combined_df['date'] = combined_df['date'].dt.tz_localize(None)\n",
        "    combined_df['date'] = combined_df['date'].dt.date\n",
        "\n",
        "display(combined_df.head())"
      ]
    },
    {
      "cell_type": "markdown",
      "metadata": {
        "id": "0sHFwhQn5Te2"
      },
      "source": [
        "### Add missing dates"
      ]
    },
    {
      "cell_type": "code",
      "execution_count": 10,
      "metadata": {
        "colab": {
          "base_uri": "https://localhost:8080/"
        },
        "id": "Qn-sZsFbSMDd",
        "outputId": "b56c5591-180c-4e9e-abb7-41144d9cd033"
      },
      "outputs": [
        {
          "name": "stdout",
          "output_type": "stream",
          "text": [
            "        date market\n",
            "0 1999-01-01  BSESN\n",
            "1 1999-01-02  BSESN\n",
            "2 1999-01-03  BSESN\n",
            "3 1999-01-04  BSESN\n",
            "4 1999-01-05  BSESN\n"
          ]
        }
      ],
      "source": [
        "#first we build a df with all dates (including weekends) for EACH market\n",
        "start_date = datetime.datetime(1999, 1, 1)\n",
        "end_date = datetime.datetime(2020, 4, 30)\n",
        "#date range\n",
        "dates = pd.date_range(start=start_date, end=end_date, freq='D')\n",
        "#all of the diff markets\n",
        "markets = df_market['market'].unique()\n",
        "#df build\n",
        "date_df = pd.DataFrame([(date, market) for market in markets for date in dates], columns=['date', 'market'])\n",
        "\n",
        "print(date_df.head())\n"
      ]
    },
    {
      "cell_type": "code",
      "execution_count": 11,
      "metadata": {
        "colab": {
          "base_uri": "https://localhost:8080/"
        },
        "id": "-RhRzSZOW_Za",
        "outputId": "a2f6d612-e46b-42b9-d692-bf27c8d275e3"
      },
      "outputs": [
        {
          "name": "stdout",
          "output_type": "stream",
          "text": [
            "<class 'pandas.core.frame.DataFrame'>\n",
            "RangeIndex: 101283 entries, 0 to 101282\n",
            "Data columns (total 8 columns):\n",
            " #   Column    Non-Null Count   Dtype         \n",
            "---  ------    --------------   -----         \n",
            " 0   date      101283 non-null  datetime64[ns]\n",
            " 1   market    101283 non-null  object        \n",
            " 2   open      69035 non-null   float64       \n",
            " 3   high      69035 non-null   float64       \n",
            " 4   low       69035 non-null   float64       \n",
            " 5   close     69035 non-null   float64       \n",
            " 6   volume    69035 non-null   float64       \n",
            " 7   adjusted  69035 non-null   float64       \n",
            "dtypes: datetime64[ns](1), float64(6), object(1)\n",
            "memory usage: 6.2+ MB\n"
          ]
        }
      ],
      "source": [
        "#merge the market df onto the date_df, so all dates are included\n",
        "df = date_df.merge(df_market, on=['date', 'market'], how='left')\n",
        "\n",
        "df.info()"
      ]
    },
    {
      "cell_type": "code",
      "execution_count": 12,
      "metadata": {
        "colab": {
          "base_uri": "https://localhost:8080/"
        },
        "id": "fIt7zxRcFkjG",
        "outputId": "43932c5d-f0a2-431e-b410-0b5a8c1713e4"
      },
      "outputs": [
        {
          "name": "stdout",
          "output_type": "stream",
          "text": [
            "             date market          open          high           low  \\\n",
            "101286 1998-12-29  GDAXI   5054.859863   5089.229980   4999.709961   \n",
            "101293 1998-12-29   TWII   6545.779785   6566.549805   6433.450195   \n",
            "101292 1998-12-29   N225  13832.320312  13913.549805  13812.870117   \n",
            "101283 1998-12-29  BSESN   3074.439941   3118.590088   3072.610107   \n",
            "101290 1998-12-29   JKSE    396.915985    398.037994    390.084015   \n",
            "\n",
            "               close     volume      adjusted  \n",
            "101286   5006.569824        0.0   5006.569824  \n",
            "101293   6462.029785        0.0   6462.005371  \n",
            "101292  13842.169922        0.0  13842.169922  \n",
            "101283   3110.330078        0.0   3110.330078  \n",
            "101290    398.037994  1748700.0    398.037994  \n"
          ]
        }
      ],
      "source": [
        "#add on the new data\n",
        "combined_df['date'] = pd.to_datetime(combined_df['date'])\n",
        "df['date'] = pd.to_datetime(df['date'])\n",
        "df = pd.concat([df, combined_df], ignore_index=True).copy()\n",
        "df = df.sort_values(by='date')\n",
        "\n",
        "print(df.head())"
      ]
    },
    {
      "cell_type": "markdown",
      "metadata": {
        "id": "ZLccb17lDMC0"
      },
      "source": [
        "### Forward Filling"
      ]
    },
    {
      "cell_type": "code",
      "execution_count": 13,
      "metadata": {
        "colab": {
          "base_uri": "https://localhost:8080/"
        },
        "id": "kz5c7NgQGRWK",
        "outputId": "535d85de-6452-4892-c7e6-3478837065d6"
      },
      "outputs": [
        {
          "name": "stdout",
          "output_type": "stream",
          "text": [
            "date        0\n",
            "market      0\n",
            "open        0\n",
            "high        0\n",
            "low         0\n",
            "close       0\n",
            "volume      0\n",
            "adjusted    0\n",
            "dtype: int64\n"
          ]
        },
        {
          "name": "stderr",
          "output_type": "stream",
          "text": [
            "/tmp/ipykernel_16017/1232200106.py:5: FutureWarning: SeriesGroupBy.fillna is deprecated and will be removed in a future version. Use obj.ffill() or obj.bfill() for forward or backward filling instead. If you want to fill with a single value, use Series.fillna instead\n",
            "  df[column] = df.groupby(['market'])[column].fillna(method='ffill')\n",
            "/tmp/ipykernel_16017/1232200106.py:5: FutureWarning: Series.fillna with 'method' is deprecated and will raise in a future version. Use obj.ffill() or obj.bfill() instead.\n",
            "  df[column] = df.groupby(['market'])[column].fillna(method='ffill')\n",
            "/tmp/ipykernel_16017/1232200106.py:5: FutureWarning: SeriesGroupBy.fillna is deprecated and will be removed in a future version. Use obj.ffill() or obj.bfill() for forward or backward filling instead. If you want to fill with a single value, use Series.fillna instead\n",
            "  df[column] = df.groupby(['market'])[column].fillna(method='ffill')\n",
            "/tmp/ipykernel_16017/1232200106.py:5: FutureWarning: Series.fillna with 'method' is deprecated and will raise in a future version. Use obj.ffill() or obj.bfill() instead.\n",
            "  df[column] = df.groupby(['market'])[column].fillna(method='ffill')\n",
            "/tmp/ipykernel_16017/1232200106.py:5: FutureWarning: SeriesGroupBy.fillna is deprecated and will be removed in a future version. Use obj.ffill() or obj.bfill() for forward or backward filling instead. If you want to fill with a single value, use Series.fillna instead\n",
            "  df[column] = df.groupby(['market'])[column].fillna(method='ffill')\n",
            "/tmp/ipykernel_16017/1232200106.py:5: FutureWarning: Series.fillna with 'method' is deprecated and will raise in a future version. Use obj.ffill() or obj.bfill() instead.\n",
            "  df[column] = df.groupby(['market'])[column].fillna(method='ffill')\n",
            "/tmp/ipykernel_16017/1232200106.py:5: FutureWarning: SeriesGroupBy.fillna is deprecated and will be removed in a future version. Use obj.ffill() or obj.bfill() for forward or backward filling instead. If you want to fill with a single value, use Series.fillna instead\n",
            "  df[column] = df.groupby(['market'])[column].fillna(method='ffill')\n",
            "/tmp/ipykernel_16017/1232200106.py:5: FutureWarning: Series.fillna with 'method' is deprecated and will raise in a future version. Use obj.ffill() or obj.bfill() instead.\n",
            "  df[column] = df.groupby(['market'])[column].fillna(method='ffill')\n",
            "/tmp/ipykernel_16017/1232200106.py:5: FutureWarning: SeriesGroupBy.fillna is deprecated and will be removed in a future version. Use obj.ffill() or obj.bfill() for forward or backward filling instead. If you want to fill with a single value, use Series.fillna instead\n",
            "  df[column] = df.groupby(['market'])[column].fillna(method='ffill')\n",
            "/tmp/ipykernel_16017/1232200106.py:5: FutureWarning: Series.fillna with 'method' is deprecated and will raise in a future version. Use obj.ffill() or obj.bfill() instead.\n",
            "  df[column] = df.groupby(['market'])[column].fillna(method='ffill')\n",
            "/tmp/ipykernel_16017/1232200106.py:5: FutureWarning: SeriesGroupBy.fillna is deprecated and will be removed in a future version. Use obj.ffill() or obj.bfill() for forward or backward filling instead. If you want to fill with a single value, use Series.fillna instead\n",
            "  df[column] = df.groupby(['market'])[column].fillna(method='ffill')\n",
            "/tmp/ipykernel_16017/1232200106.py:5: FutureWarning: Series.fillna with 'method' is deprecated and will raise in a future version. Use obj.ffill() or obj.bfill() instead.\n",
            "  df[column] = df.groupby(['market'])[column].fillna(method='ffill')\n"
          ]
        }
      ],
      "source": [
        "#df.sort_values(by=['market', 'date'], inplace=True)\n",
        "columns_to_impute = ['open', 'high', 'low', 'close', 'volume', 'adjusted']\n",
        "\n",
        "for column in columns_to_impute:\n",
        "    df[column] = df.groupby(['market'])[column].fillna(method='ffill')\n",
        "\n",
        "nulls = df.isna().sum()\n",
        "\n",
        "print(nulls)"
      ]
    },
    {
      "cell_type": "code",
      "execution_count": 14,
      "metadata": {
        "colab": {
          "base_uri": "https://localhost:8080/"
        },
        "id": "IhuT8Zpb6Hao",
        "outputId": "7b43c737-f77c-418a-fa2e-43c34d404e44"
      },
      "outputs": [
        {
          "name": "stdout",
          "output_type": "stream",
          "text": [
            "            date market         open          high          low        close  \\\n",
            "23373 1999-01-01  GDAXI  5054.859863   5089.229980  4999.709961  5006.569824   \n",
            "31164 1999-01-01   GSPC  1241.810059   1244.930054  1231.199951  1231.930054   \n",
            "38955 1999-01-01   HSCE  1715.569946   1733.900024  1706.359985  1724.469971   \n",
            "46746 1999-01-01   IBEX  9940.700195  10054.900391  9822.200195  9836.599609   \n",
            "93492 1999-01-01   VLIC   427.079987    428.839996   426.570007   428.420013   \n",
            "\n",
            "            volume     adjusted  \n",
            "23373          0.0  5006.569824  \n",
            "31164  594220000.0  1231.930054  \n",
            "38955          0.0  1724.469971  \n",
            "46746          0.0  9836.589844  \n",
            "93492    5970000.0   428.420013  \n"
          ]
        }
      ],
      "source": [
        "df_clean = df[df['date'] >= pd.Timestamp('1999-01-01')]\n",
        "print(df_clean.head())"
      ]
    },
    {
      "cell_type": "code",
      "execution_count": 15,
      "metadata": {
        "colab": {
          "base_uri": "https://localhost:8080/"
        },
        "id": "g9PxyfZrKM_2",
        "outputId": "ef8cc867-3d03-4998-b351-6aaa48a4e4b3"
      },
      "outputs": [
        {
          "name": "stdout",
          "output_type": "stream",
          "text": [
            "<class 'pandas.core.frame.DataFrame'>\n",
            "Index: 101283 entries, 23373 to 77909\n",
            "Data columns (total 8 columns):\n",
            " #   Column    Non-Null Count   Dtype         \n",
            "---  ------    --------------   -----         \n",
            " 0   date      101283 non-null  datetime64[ns]\n",
            " 1   market    101283 non-null  object        \n",
            " 2   open      101283 non-null  float64       \n",
            " 3   high      101283 non-null  float64       \n",
            " 4   low       101283 non-null  float64       \n",
            " 5   close     101283 non-null  float64       \n",
            " 6   volume    101283 non-null  float64       \n",
            " 7   adjusted  101283 non-null  float64       \n",
            "dtypes: datetime64[ns](1), float64(6), object(1)\n",
            "memory usage: 7.0+ MB\n"
          ]
        }
      ],
      "source": [
        "df_clean.info()"
      ]
    },
    {
      "cell_type": "markdown",
      "metadata": {
        "id": "Y_giqbASh8KQ"
      },
      "source": [
        "In pandas, the dayofweek attribute returns an integer for each date, where Monday is 0 and Sunday is 6. Saturday (5) and Sunday (6) can be identified as weekends."
      ]
    },
    {
      "cell_type": "code",
      "execution_count": 16,
      "metadata": {
        "colab": {
          "base_uri": "https://localhost:8080/"
        },
        "id": "yrcMzvt7iREZ",
        "outputId": "870b4a02-0b7d-464c-eb52-1f5706561f02"
      },
      "outputs": [
        {
          "name": "stdout",
          "output_type": "stream",
          "text": [
            "<bound method NDFrame.head of             date market          open          high           low  \\\n",
            "23373 1999-01-01  GDAXI   5054.859863   5089.229980   4999.709961   \n",
            "31164 1999-01-01   GSPC   1241.810059   1244.930054   1231.199951   \n",
            "38955 1999-01-01   HSCE   1715.569946   1733.900024   1706.359985   \n",
            "46746 1999-01-01   IBEX   9940.700195  10054.900391   9822.200195   \n",
            "93492 1999-01-01   VLIC    427.079987    428.839996    426.570007   \n",
            "...          ...    ...           ...           ...           ...   \n",
            "7790  2020-04-30  BSESN  32311.039063  32897.589844  32171.650391   \n",
            "93491 2020-04-30    VIX     32.480000     33.189999     30.709999   \n",
            "85700 2020-04-30   TWII  10656.400391  10794.830078  10656.400391   \n",
            "70118 2020-04-30    MXX  36095.718750  36976.648438  36095.718750   \n",
            "77909 2020-04-30   N225  20105.679688  20365.890625  20084.830078   \n",
            "\n",
            "              close       volume      adjusted  weekend  \n",
            "23373   5006.569824          0.0   5006.569824        0  \n",
            "31164   1231.930054  594220000.0   1231.930054        0  \n",
            "38955   1724.469971          0.0   1724.469971        0  \n",
            "46746   9836.599609          0.0   9836.589844        0  \n",
            "93492    428.420013    5970000.0    428.420013        0  \n",
            "...             ...          ...           ...      ...  \n",
            "7790   32720.160156      16000.0  32720.160156        0  \n",
            "93491     31.230000          0.0     31.230000        0  \n",
            "85700  10772.219727    3529100.0  10772.219727        0  \n",
            "70118  36870.089844  196287600.0  36870.089844        0  \n",
            "77909  20193.689453     103400.0  20193.689453        0  \n",
            "\n",
            "[101283 rows x 9 columns]>\n"
          ]
        },
        {
          "name": "stderr",
          "output_type": "stream",
          "text": [
            "/tmp/ipykernel_16017/2837093159.py:2: SettingWithCopyWarning: \n",
            "A value is trying to be set on a copy of a slice from a DataFrame.\n",
            "Try using .loc[row_indexer,col_indexer] = value instead\n",
            "\n",
            "See the caveats in the documentation: https://pandas.pydata.org/pandas-docs/stable/user_guide/indexing.html#returning-a-view-versus-a-copy\n",
            "  df_clean['weekend'] = (df_clean['date'].dt.dayofweek > 4).astype(int)\n"
          ]
        }
      ],
      "source": [
        "#we use the pandas dayofweek attribute to create a new feature indicating whether the day is on the weekend or not\n",
        "df_clean['weekend'] = (df_clean['date'].dt.dayofweek > 4).astype(int)\n",
        "\n",
        "print(df_clean.head)"
      ]
    },
    {
      "cell_type": "code",
      "execution_count": 17,
      "metadata": {
        "colab": {
          "base_uri": "https://localhost:8080/"
        },
        "id": "ZuKAbxgMFhrt",
        "outputId": "f3058b12-fbbe-4011-d17a-a00ce252a101"
      },
      "outputs": [
        {
          "name": "stdout",
          "output_type": "stream",
          "text": [
            "date        0\n",
            "market      0\n",
            "open        0\n",
            "high        0\n",
            "low         0\n",
            "close       0\n",
            "volume      0\n",
            "adjusted    0\n",
            "weekend     0\n",
            "dtype: int64\n"
          ]
        }
      ],
      "source": [
        "nulls = df_clean.isna().sum()\n",
        "\n",
        "print(nulls)"
      ]
    },
    {
      "cell_type": "code",
      "execution_count": null,
      "metadata": {
        "id": "HtW92E6uKWY_"
      },
      "outputs": [],
      "source": [
        "# df_clean.to_csv(path_out_ + 'df_clean.csv', index=False)"
      ]
    },
    {
      "cell_type": "markdown",
      "metadata": {
        "id": "lPyhPF58yA-l"
      },
      "source": [
        "## <a id='part1'>Part 1: EWMA Based Variance</a>\n",
        "- **Objective**: Compare two models to calculate EWMA Based Variance\n",
        "- **Tasks:**\n",
        "  - EWMA Equation: Use the equation covered in class to calculate EWMA based variance.\n",
        "  - EWMA Recursion: Use the recursive formula definition to calculate EWMA based variance.\n",
        "  - Compare the two methods to calculate EWMA based variance."
      ]
    },
    {
      "cell_type": "markdown",
      "metadata": {},
      "source": [
        "- Import in the cleaned stock data."
      ]
    },
    {
      "cell_type": "code",
      "execution_count": 7,
      "metadata": {},
      "outputs": [
        {
          "data": {
            "text/plain": [
              "date          datetime64[ns]\n",
              "market                object\n",
              "open                 float64\n",
              "high                 float64\n",
              "low                  float64\n",
              "close                float64\n",
              "volume               float64\n",
              "adjusted             float64\n",
              "weekend                int64\n",
              "index_time             int64\n",
              "dtype: object"
            ]
          },
          "execution_count": 7,
          "metadata": {},
          "output_type": "execute_result"
        }
      ],
      "source": [
        "#Import in the cleaned stock data\n",
        "\n",
        "df_stocks = pd.read_csv(path_out_ + 'df_clean.csv', dtype = str)\n",
        "df_stocks['date'] = pd.to_datetime(df_stocks['date'])\n",
        "df_stocks[['open', 'high', 'low', 'close', 'volume', 'adjusted','weekend']] = df_stocks[['open', 'high', 'low', 'close', 'volume', 'adjusted','weekend']].apply(pd.to_numeric)\n",
        "df_stocks['market'] = df_stocks['market'].str.strip().str.upper()\n",
        "df_stocks.sort_values(by = ['market','date'], inplace = True)\n",
        "df_stocks.reset_index(drop = True, inplace = True)\n",
        "\n",
        "df_stocks['index_time'] = 1\n",
        "df_stocks['index_time'] = df_stocks.groupby(by = ['market'])['index_time'].cumsum()\n",
        "\n",
        "df_stocks.dtypes"
      ]
    },
    {
      "cell_type": "markdown",
      "metadata": {},
      "source": [
        "- Calculate daily log return on close price - (Lecture 2, Slide 5)\n",
        "\n",
        "$$ r_{t} = ln(P_{t}) - ln(P_{t-1}) $$"
      ]
    },
    {
      "cell_type": "code",
      "execution_count": 8,
      "metadata": {},
      "outputs": [],
      "source": [
        "#Calculate daily return on close price\n",
        "\n",
        "#get previous close day\n",
        "df_stocks['close_lag1'] = df_stocks.groupby(by = ['market'])['close'].shift(1)\n",
        "\n",
        "#assume that when we don't have previous close information, it is the same as the current day close\n",
        "df_stocks['close_lag1'] = df_stocks['close_lag1'].fillna(df_stocks['close'])\n",
        "\n",
        "#use formula to calculate daily natural log return\n",
        "df_stocks['return_ln_daily'] = np.log(df_stocks['close']) - np.log(df_stocks['close_lag1'])\n"
      ]
    },
    {
      "cell_type": "markdown",
      "metadata": {},
      "source": [
        "- EWMA Equation: Use the equation covered in class to calculate EWMA based variance.\n",
        "\n",
        "$$\\sigma^2_{\\text{ewma}}(t) = (1 - \\lambda) \\sum \\limits _{k=1} ^{m} \\lambda^{k-1}r^2_{t-k}$$"
      ]
    },
    {
      "cell_type": "code",
      "execution_count": 34,
      "metadata": {
        "id": "_XGkkv3ZyA-l"
      },
      "outputs": [
        {
          "name": "stdout",
          "output_type": "stream",
          "text": [
            "            date market         open         high          low        close  \\\n",
            "60    1999-03-02  BSESN  3447.500000  3539.620117  3417.219971  3523.979980   \n",
            "61    1999-03-03  BSESN  3638.560059  3691.020020  3625.459961  3640.419922   \n",
            "62    1999-03-04  BSESN  3660.399902  3662.469971  3563.149902  3601.959961   \n",
            "63    1999-03-05  BSESN  3622.020020  3681.139893  3578.090088  3649.060059   \n",
            "64    1999-03-06  BSESN  3622.020020  3681.139893  3578.090088  3649.060059   \n",
            "...          ...    ...          ...          ...          ...          ...   \n",
            "93568 1999-03-18   VLIC   413.700012   415.809998   413.399994   415.470001   \n",
            "93569 1999-03-19   VLIC   415.470001   415.470001   411.489990   411.510010   \n",
            "93570 1999-03-20   VLIC   415.470001   415.470001   411.489990   411.510010   \n",
            "93571 1999-03-21   VLIC   415.470001   415.470001   411.489990   411.510010   \n",
            "93572 1999-03-22   VLIC   411.859985   412.010010   408.980011   409.549988   \n",
            "\n",
            "          volume     adjusted  weekend  index_time   close_lag1  \\\n",
            "60           0.0  3523.979980        0          61  3523.979980   \n",
            "61           0.0  3640.419922        0          62  3523.979980   \n",
            "62           0.0  3601.959961        0          63  3640.419922   \n",
            "63           0.0  3649.060059        0          64  3601.959961   \n",
            "64           0.0  3649.060059        1          65  3649.060059   \n",
            "...          ...          ...      ...         ...          ...   \n",
            "93568  5640000.0   415.470001        0          77   413.700012   \n",
            "93569  5630000.0   411.510010        0          78   415.470001   \n",
            "93570  5630000.0   411.510010        1          79   411.510010   \n",
            "93571  5630000.0   411.510010        1          80   411.510010   \n",
            "93572  4840000.0   409.549988        0          81   411.510010   \n",
            "\n",
            "       return_ln_daily  ewma_eqn  return_ln_daily_sqrd  index_time_ewma_eqn  \\\n",
            "60            0.000000       NaN              0.000000                   19   \n",
            "61            0.032508       NaN              0.001057                   18   \n",
            "62           -0.010621       NaN              0.000113                   17   \n",
            "63            0.012991       NaN              0.000169                   16   \n",
            "64            0.000000       NaN              0.000000                   15   \n",
            "...                ...       ...                   ...                  ...   \n",
            "93568         0.004269       NaN              0.000018                    3   \n",
            "93569        -0.009577       NaN              0.000092                    2   \n",
            "93570         0.000000       NaN              0.000000                    1   \n",
            "93571         0.000000       NaN              0.000000                    0   \n",
            "93572        -0.004774       NaN              0.000023                   -1   \n",
            "\n",
            "         lambda  index_value  ewma_eqn_value  \n",
            "60     0.308624     0.000000        0.001747  \n",
            "61     0.328323     0.000347        0.001747  \n",
            "62     0.349280     0.000039        0.001747  \n",
            "63     0.371574     0.000063        0.001747  \n",
            "64     0.395292     0.000000        0.001747  \n",
            "...         ...          ...             ...  \n",
            "93568  0.830584     0.000015        0.000208  \n",
            "93569  0.883600     0.000081        0.000208  \n",
            "93570  0.940000     0.000000        0.000208  \n",
            "93571  1.000000     0.000000        0.000208  \n",
            "93572  1.063830     0.000000        0.000208  \n",
            "\n",
            "[273 rows x 18 columns]\n"
          ]
        },
        {
          "data": {
            "text/html": [
              "<div>\n",
              "<style scoped>\n",
              "    .dataframe tbody tr th:only-of-type {\n",
              "        vertical-align: middle;\n",
              "    }\n",
              "\n",
              "    .dataframe tbody tr th {\n",
              "        vertical-align: top;\n",
              "    }\n",
              "\n",
              "    .dataframe thead th {\n",
              "        text-align: right;\n",
              "    }\n",
              "</style>\n",
              "<table border=\"1\" class=\"dataframe\">\n",
              "  <thead>\n",
              "    <tr style=\"text-align: right;\">\n",
              "      <th></th>\n",
              "      <th>date</th>\n",
              "      <th>market</th>\n",
              "      <th>open</th>\n",
              "      <th>high</th>\n",
              "      <th>low</th>\n",
              "      <th>close</th>\n",
              "      <th>volume</th>\n",
              "      <th>adjusted</th>\n",
              "      <th>weekend</th>\n",
              "      <th>index_time</th>\n",
              "      <th>close_lag1</th>\n",
              "      <th>return_ln_daily</th>\n",
              "      <th>ewma_eqn</th>\n",
              "    </tr>\n",
              "  </thead>\n",
              "  <tbody>\n",
              "    <tr>\n",
              "      <th>0</th>\n",
              "      <td>1999-01-01</td>\n",
              "      <td>BSESN</td>\n",
              "      <td>3074.439941</td>\n",
              "      <td>3118.590088</td>\n",
              "      <td>3072.610107</td>\n",
              "      <td>3110.330078</td>\n",
              "      <td>0.0</td>\n",
              "      <td>3110.330078</td>\n",
              "      <td>0</td>\n",
              "      <td>1</td>\n",
              "      <td>3110.330078</td>\n",
              "      <td>0.000000</td>\n",
              "      <td>0.000000</td>\n",
              "    </tr>\n",
              "    <tr>\n",
              "      <th>1</th>\n",
              "      <td>1999-01-02</td>\n",
              "      <td>BSESN</td>\n",
              "      <td>3074.439941</td>\n",
              "      <td>3118.590088</td>\n",
              "      <td>3072.610107</td>\n",
              "      <td>3110.330078</td>\n",
              "      <td>0.0</td>\n",
              "      <td>3110.330078</td>\n",
              "      <td>1</td>\n",
              "      <td>2</td>\n",
              "      <td>3110.330078</td>\n",
              "      <td>0.000000</td>\n",
              "      <td>0.003699</td>\n",
              "    </tr>\n",
              "    <tr>\n",
              "      <th>2</th>\n",
              "      <td>1999-01-03</td>\n",
              "      <td>BSESN</td>\n",
              "      <td>3074.439941</td>\n",
              "      <td>3118.590088</td>\n",
              "      <td>3072.610107</td>\n",
              "      <td>3110.330078</td>\n",
              "      <td>0.0</td>\n",
              "      <td>3110.330078</td>\n",
              "      <td>1</td>\n",
              "      <td>3</td>\n",
              "      <td>3110.330078</td>\n",
              "      <td>0.000000</td>\n",
              "      <td>0.003571</td>\n",
              "    </tr>\n",
              "    <tr>\n",
              "      <th>3</th>\n",
              "      <td>1999-01-04</td>\n",
              "      <td>BSESN</td>\n",
              "      <td>3113.620117</td>\n",
              "      <td>3148.070068</td>\n",
              "      <td>3113.620117</td>\n",
              "      <td>3122.040039</td>\n",
              "      <td>0.0</td>\n",
              "      <td>3122.040039</td>\n",
              "      <td>0</td>\n",
              "      <td>4</td>\n",
              "      <td>3110.330078</td>\n",
              "      <td>0.003758</td>\n",
              "      <td>0.003356</td>\n",
              "    </tr>\n",
              "    <tr>\n",
              "      <th>4</th>\n",
              "      <td>1999-01-05</td>\n",
              "      <td>BSESN</td>\n",
              "      <td>3129.580078</td>\n",
              "      <td>3150.310059</td>\n",
              "      <td>3103.620117</td>\n",
              "      <td>3149.060059</td>\n",
              "      <td>0.0</td>\n",
              "      <td>3149.060059</td>\n",
              "      <td>0</td>\n",
              "      <td>5</td>\n",
              "      <td>3122.040039</td>\n",
              "      <td>0.008617</td>\n",
              "      <td>0.003151</td>\n",
              "    </tr>\n",
              "  </tbody>\n",
              "</table>\n",
              "</div>"
            ],
            "text/plain": [
              "        date market         open         high          low        close  \\\n",
              "0 1999-01-01  BSESN  3074.439941  3118.590088  3072.610107  3110.330078   \n",
              "1 1999-01-02  BSESN  3074.439941  3118.590088  3072.610107  3110.330078   \n",
              "2 1999-01-03  BSESN  3074.439941  3118.590088  3072.610107  3110.330078   \n",
              "3 1999-01-04  BSESN  3113.620117  3148.070068  3113.620117  3122.040039   \n",
              "4 1999-01-05  BSESN  3129.580078  3150.310059  3103.620117  3149.060059   \n",
              "\n",
              "   volume     adjusted  weekend  index_time   close_lag1  return_ln_daily  \\\n",
              "0     0.0  3110.330078        0           1  3110.330078         0.000000   \n",
              "1     0.0  3110.330078        1           2  3110.330078         0.000000   \n",
              "2     0.0  3110.330078        1           3  3110.330078         0.000000   \n",
              "3     0.0  3122.040039        0           4  3110.330078         0.003758   \n",
              "4     0.0  3149.060059        0           5  3122.040039         0.008617   \n",
              "\n",
              "   ewma_eqn  \n",
              "0  0.000000  \n",
              "1  0.003699  \n",
              "2  0.003571  \n",
              "3  0.003356  \n",
              "4  0.003151  "
            ]
          },
          "execution_count": 34,
          "metadata": {},
          "output_type": "execute_result"
        }
      ],
      "source": [
        "#EWMA Equation\n",
        "\n",
        "def ewma_formula(t, M, df_):\n",
        "    df_calc = df_[(df_['index_time']<=t)&(df_['index_time']>=(t-M))].copy()\n",
        "    df_calc['index_time_ewma_eqn'] = (t - df_calc['index_time']) - 1\n",
        "    df_calc['lambda'] = df_calc['index_time_ewma_eqn'].apply(lambda x: PARAM_LAMBDA**x)\n",
        "    df_calc['index_value'] = df_calc['lambda']*(df_calc['return_ln_daily_sqrd'])\n",
        "    df_calc.loc[df_calc['index_time']==t, 'index_value'] = 0\n",
        "    df_calc['ewma_eqn_value'] = df_calc.groupby(by = ['market'])['index_value'].transform('sum')\n",
        "    if t == 81:\n",
        "        print(df_calc)\n",
        "    df_calc.sort_values(by = ['market','date'], ascending = [True, False], inplace = True)\n",
        "    df_calc.drop_duplicates(subset = ['market'], inplace = True)\n",
        "    df_calc = df_calc[['date','market','ewma_eqn_value']]\n",
        "    return df_calc\n",
        "\n",
        "def ewma_calc(df_, iterations):\n",
        "    df_['return_ln_daily_sqrd'] = df_['return_ln_daily']**2\n",
        "    df_['ewma_eqn'] = np.nan\n",
        "\n",
        "    # df_days = df_.copy()\n",
        "    # df_days['number_of_days'] = 1\n",
        "    # df_days['number_of_days'] = df_days.groupby(by = ['market'])['number_of_days'].transform('sum')\n",
        "    # df_days.drop_duplicates(subset = ['market'], inplace = True)\n",
        "    # iterations = df_days['number_of_days'].max()\n",
        "\n",
        "    for t in range(1, iterations+1):\n",
        "        # print(t)\n",
        "        if t < PARAM_M:\n",
        "            M = t\n",
        "        else:\n",
        "            M = PARAM_M\n",
        "        df_ewma_eqn = ewma_formula(t, M, df_)    \n",
        "        df_ = df_.merge(df_ewma_eqn, how = 'left', on = ['market','date'])\n",
        "        df_['ewma_eqn'] = df_['ewma_eqn'].fillna(df_['ewma_eqn_value'])\n",
        "        df_.drop(columns = ['ewma_eqn_value'], inplace = True)\n",
        "    df_.drop(columns = ['return_ln_daily_sqrd'], inplace = True)\n",
        "    return df_\n",
        "\n",
        "df_check = ewma_calc(df_stocks, 100)\n",
        "\n",
        "df_check.head()\n"
      ]
    },
    {
      "cell_type": "code",
      "execution_count": 29,
      "metadata": {},
      "outputs": [
        {
          "data": {
            "text/html": [
              "<div>\n",
              "<style scoped>\n",
              "    .dataframe tbody tr th:only-of-type {\n",
              "        vertical-align: middle;\n",
              "    }\n",
              "\n",
              "    .dataframe tbody tr th {\n",
              "        vertical-align: top;\n",
              "    }\n",
              "\n",
              "    .dataframe thead th {\n",
              "        text-align: right;\n",
              "    }\n",
              "</style>\n",
              "<table border=\"1\" class=\"dataframe\">\n",
              "  <thead>\n",
              "    <tr style=\"text-align: right;\">\n",
              "      <th></th>\n",
              "      <th>date</th>\n",
              "      <th>market</th>\n",
              "      <th>open</th>\n",
              "      <th>high</th>\n",
              "      <th>low</th>\n",
              "      <th>close</th>\n",
              "      <th>volume</th>\n",
              "      <th>adjusted</th>\n",
              "      <th>weekend</th>\n",
              "      <th>index_time</th>\n",
              "      <th>close_lag1</th>\n",
              "      <th>return_ln_daily</th>\n",
              "      <th>ewma_eqn</th>\n",
              "    </tr>\n",
              "  </thead>\n",
              "  <tbody>\n",
              "    <tr>\n",
              "      <th>0</th>\n",
              "      <td>1999-01-01</td>\n",
              "      <td>BSESN</td>\n",
              "      <td>3074.439941</td>\n",
              "      <td>3118.590088</td>\n",
              "      <td>3072.610107</td>\n",
              "      <td>3110.330078</td>\n",
              "      <td>0.0</td>\n",
              "      <td>3110.330078</td>\n",
              "      <td>0</td>\n",
              "      <td>1</td>\n",
              "      <td>3110.330078</td>\n",
              "      <td>0.000000</td>\n",
              "      <td>0.000000</td>\n",
              "    </tr>\n",
              "    <tr>\n",
              "      <th>1</th>\n",
              "      <td>1999-01-02</td>\n",
              "      <td>BSESN</td>\n",
              "      <td>3074.439941</td>\n",
              "      <td>3118.590088</td>\n",
              "      <td>3072.610107</td>\n",
              "      <td>3110.330078</td>\n",
              "      <td>0.0</td>\n",
              "      <td>3110.330078</td>\n",
              "      <td>1</td>\n",
              "      <td>2</td>\n",
              "      <td>3110.330078</td>\n",
              "      <td>0.000000</td>\n",
              "      <td>0.003699</td>\n",
              "    </tr>\n",
              "    <tr>\n",
              "      <th>2</th>\n",
              "      <td>1999-01-03</td>\n",
              "      <td>BSESN</td>\n",
              "      <td>3074.439941</td>\n",
              "      <td>3118.590088</td>\n",
              "      <td>3072.610107</td>\n",
              "      <td>3110.330078</td>\n",
              "      <td>0.0</td>\n",
              "      <td>3110.330078</td>\n",
              "      <td>1</td>\n",
              "      <td>3</td>\n",
              "      <td>3110.330078</td>\n",
              "      <td>0.000000</td>\n",
              "      <td>0.003571</td>\n",
              "    </tr>\n",
              "    <tr>\n",
              "      <th>3</th>\n",
              "      <td>1999-01-04</td>\n",
              "      <td>BSESN</td>\n",
              "      <td>3113.620117</td>\n",
              "      <td>3148.070068</td>\n",
              "      <td>3113.620117</td>\n",
              "      <td>3122.040039</td>\n",
              "      <td>0.0</td>\n",
              "      <td>3122.040039</td>\n",
              "      <td>0</td>\n",
              "      <td>4</td>\n",
              "      <td>3110.330078</td>\n",
              "      <td>0.003758</td>\n",
              "      <td>0.003356</td>\n",
              "    </tr>\n",
              "    <tr>\n",
              "      <th>4</th>\n",
              "      <td>1999-01-05</td>\n",
              "      <td>BSESN</td>\n",
              "      <td>3129.580078</td>\n",
              "      <td>3150.310059</td>\n",
              "      <td>3103.620117</td>\n",
              "      <td>3149.060059</td>\n",
              "      <td>0.0</td>\n",
              "      <td>3149.060059</td>\n",
              "      <td>0</td>\n",
              "      <td>5</td>\n",
              "      <td>3122.040039</td>\n",
              "      <td>0.008617</td>\n",
              "      <td>0.003151</td>\n",
              "    </tr>\n",
              "    <tr>\n",
              "      <th>...</th>\n",
              "      <td>...</td>\n",
              "      <td>...</td>\n",
              "      <td>...</td>\n",
              "      <td>...</td>\n",
              "      <td>...</td>\n",
              "      <td>...</td>\n",
              "      <td>...</td>\n",
              "      <td>...</td>\n",
              "      <td>...</td>\n",
              "      <td>...</td>\n",
              "      <td>...</td>\n",
              "      <td>...</td>\n",
              "      <td>...</td>\n",
              "    </tr>\n",
              "    <tr>\n",
              "      <th>77</th>\n",
              "      <td>1999-03-19</td>\n",
              "      <td>BSESN</td>\n",
              "      <td>3728.649902</td>\n",
              "      <td>3741.699951</td>\n",
              "      <td>3651.010010</td>\n",
              "      <td>3672.629883</td>\n",
              "      <td>0.0</td>\n",
              "      <td>3672.629883</td>\n",
              "      <td>0</td>\n",
              "      <td>78</td>\n",
              "      <td>3672.709961</td>\n",
              "      <td>-0.000022</td>\n",
              "      <td>0.003272</td>\n",
              "    </tr>\n",
              "    <tr>\n",
              "      <th>78</th>\n",
              "      <td>1999-03-20</td>\n",
              "      <td>BSESN</td>\n",
              "      <td>3728.649902</td>\n",
              "      <td>3741.699951</td>\n",
              "      <td>3651.010010</td>\n",
              "      <td>3672.629883</td>\n",
              "      <td>0.0</td>\n",
              "      <td>3672.629883</td>\n",
              "      <td>1</td>\n",
              "      <td>79</td>\n",
              "      <td>3672.629883</td>\n",
              "      <td>0.000000</td>\n",
              "      <td>0.003262</td>\n",
              "    </tr>\n",
              "    <tr>\n",
              "      <th>79</th>\n",
              "      <td>1999-03-21</td>\n",
              "      <td>BSESN</td>\n",
              "      <td>3728.649902</td>\n",
              "      <td>3741.699951</td>\n",
              "      <td>3651.010010</td>\n",
              "      <td>3672.629883</td>\n",
              "      <td>0.0</td>\n",
              "      <td>3672.629883</td>\n",
              "      <td>1</td>\n",
              "      <td>80</td>\n",
              "      <td>3672.629883</td>\n",
              "      <td>0.000000</td>\n",
              "      <td>0.003839</td>\n",
              "    </tr>\n",
              "    <tr>\n",
              "      <th>80</th>\n",
              "      <td>1999-03-22</td>\n",
              "      <td>BSESN</td>\n",
              "      <td>3691.520020</td>\n",
              "      <td>3730.429932</td>\n",
              "      <td>3652.699951</td>\n",
              "      <td>3713.179932</td>\n",
              "      <td>0.0</td>\n",
              "      <td>3713.179932</td>\n",
              "      <td>0</td>\n",
              "      <td>81</td>\n",
              "      <td>3672.629883</td>\n",
              "      <td>0.010981</td>\n",
              "      <td>NaN</td>\n",
              "    </tr>\n",
              "    <tr>\n",
              "      <th>81</th>\n",
              "      <td>1999-03-23</td>\n",
              "      <td>BSESN</td>\n",
              "      <td>3729.750000</td>\n",
              "      <td>3784.810059</td>\n",
              "      <td>3729.750000</td>\n",
              "      <td>3757.500000</td>\n",
              "      <td>0.0</td>\n",
              "      <td>3757.500000</td>\n",
              "      <td>0</td>\n",
              "      <td>82</td>\n",
              "      <td>3713.179932</td>\n",
              "      <td>0.011865</td>\n",
              "      <td>NaN</td>\n",
              "    </tr>\n",
              "  </tbody>\n",
              "</table>\n",
              "<p>82 rows × 13 columns</p>\n",
              "</div>"
            ],
            "text/plain": [
              "         date market         open         high          low        close  \\\n",
              "0  1999-01-01  BSESN  3074.439941  3118.590088  3072.610107  3110.330078   \n",
              "1  1999-01-02  BSESN  3074.439941  3118.590088  3072.610107  3110.330078   \n",
              "2  1999-01-03  BSESN  3074.439941  3118.590088  3072.610107  3110.330078   \n",
              "3  1999-01-04  BSESN  3113.620117  3148.070068  3113.620117  3122.040039   \n",
              "4  1999-01-05  BSESN  3129.580078  3150.310059  3103.620117  3149.060059   \n",
              "..        ...    ...          ...          ...          ...          ...   \n",
              "77 1999-03-19  BSESN  3728.649902  3741.699951  3651.010010  3672.629883   \n",
              "78 1999-03-20  BSESN  3728.649902  3741.699951  3651.010010  3672.629883   \n",
              "79 1999-03-21  BSESN  3728.649902  3741.699951  3651.010010  3672.629883   \n",
              "80 1999-03-22  BSESN  3691.520020  3730.429932  3652.699951  3713.179932   \n",
              "81 1999-03-23  BSESN  3729.750000  3784.810059  3729.750000  3757.500000   \n",
              "\n",
              "    volume     adjusted  weekend  index_time   close_lag1  return_ln_daily  \\\n",
              "0      0.0  3110.330078        0           1  3110.330078         0.000000   \n",
              "1      0.0  3110.330078        1           2  3110.330078         0.000000   \n",
              "2      0.0  3110.330078        1           3  3110.330078         0.000000   \n",
              "3      0.0  3122.040039        0           4  3110.330078         0.003758   \n",
              "4      0.0  3149.060059        0           5  3122.040039         0.008617   \n",
              "..     ...          ...      ...         ...          ...              ...   \n",
              "77     0.0  3672.629883        0          78  3672.709961        -0.000022   \n",
              "78     0.0  3672.629883        1          79  3672.629883         0.000000   \n",
              "79     0.0  3672.629883        1          80  3672.629883         0.000000   \n",
              "80     0.0  3713.179932        0          81  3672.629883         0.010981   \n",
              "81     0.0  3757.500000        0          82  3713.179932         0.011865   \n",
              "\n",
              "    ewma_eqn  \n",
              "0   0.000000  \n",
              "1   0.003699  \n",
              "2   0.003571  \n",
              "3   0.003356  \n",
              "4   0.003151  \n",
              "..       ...  \n",
              "77  0.003272  \n",
              "78  0.003262  \n",
              "79  0.003839  \n",
              "80       NaN  \n",
              "81       NaN  \n",
              "\n",
              "[82 rows x 13 columns]"
            ]
          },
          "execution_count": 29,
          "metadata": {},
          "output_type": "execute_result"
        }
      ],
      "source": [
        "df_check.head(82)"
      ]
    },
    {
      "cell_type": "markdown",
      "metadata": {},
      "source": [
        "- EWMA Recursion: Use the recursive formula definition to calculate EWMA based variance.\n",
        "\n",
        "$$\\sigma^2_{\\text{ewma}}(t) = \\lambda \\sigma^2_{\\text{ewma}}(t-1) + (1-\\lambda)r^2_{t-1}$$"
      ]
    },
    {
      "cell_type": "code",
      "execution_count": null,
      "metadata": {
        "id": "i9qFX0EPyA-m"
      },
      "outputs": [],
      "source": [
        "#EWMA Recusion\n"
      ]
    },
    {
      "cell_type": "markdown",
      "metadata": {},
      "source": [
        "- Compare the two methods to calculate EWMA based variance."
      ]
    },
    {
      "cell_type": "code",
      "execution_count": null,
      "metadata": {
        "id": "D1Nx7W9gyA-m"
      },
      "outputs": [],
      "source": [
        "#Compare equation to recursion\n"
      ]
    },
    {
      "cell_type": "markdown",
      "metadata": {
        "id": "Y5Z-b4rqyA-n"
      },
      "source": [
        "## <a id='part2'>Part 2: Causality Analysis</a>\n",
        "- **Objective**: Conduct causality analysis with multiple lag variables and time frame windows.\n",
        "- **Tasks:**\n",
        "  - task list here"
      ]
    },
    {
      "cell_type": "code",
      "execution_count": null,
      "metadata": {
        "id": "2kalgVYhyA-n"
      },
      "outputs": [],
      "source": [
        "#Causality analysis\n"
      ]
    },
    {
      "cell_type": "markdown",
      "metadata": {
        "id": "ba-xiMQpyA-n"
      },
      "source": [
        "## <a id='part3'>Part 3: Modeling</a>\n",
        "- **Objective**: Create a neural network and a gaussian process regression to model return, price, or direction (up or down).\n",
        "- **Tasks:**\n",
        "  - (I think we should predict a binary outcome of the stock direction goes up or down personally)\n",
        "  - Feature creation: Create multiple types of lag variables for different lag amounts.\n",
        "  - Feature selection: (I'd suggest a good old random forest cause I personally love a random forest feature selection or an XGBoost feature selection).\n",
        "  - Create a neural network, discuss hyper parameter tuning.\n",
        "  - Create a gaussian process, discuss hyper parameter tuning.\n",
        "\n",
        "  2018/01 - 2021/12\n",
        "dp, svar, bm"
      ]
    },
    {
      "cell_type": "code",
      "execution_count": 1,
      "metadata": {
        "colab": {
          "base_uri": "https://localhost:8080/",
          "height": 176
        },
        "id": "yNN-JPjFyA-o",
        "outputId": "08b68d1c-e9b0-4798-c4c6-c4b041b0ed23"
      },
      "outputs": [
        {
          "ename": "NameError",
          "evalue": "name 'pd' is not defined",
          "output_type": "error",
          "traceback": [
            "\u001b[0;31m---------------------------------------------------------------------------\u001b[0m",
            "\u001b[0;31mNameError\u001b[0m                                 Traceback (most recent call last)",
            "\u001b[0;32m<ipython-input-1-3a7eb233f8c1>\u001b[0m in \u001b[0;36m<cell line: 2>\u001b[0;34m()\u001b[0m\n\u001b[1;32m      1\u001b[0m \u001b[0;31m#modeling\u001b[0m\u001b[0;34m\u001b[0m\u001b[0;34m\u001b[0m\u001b[0m\n\u001b[0;32m----> 2\u001b[0;31m \u001b[0msp500\u001b[0m \u001b[0;34m=\u001b[0m \u001b[0mpd\u001b[0m\u001b[0;34m.\u001b[0m\u001b[0mread_csv\u001b[0m\u001b[0;34m(\u001b[0m\u001b[0mpath_in_\u001b[0m \u001b[0;34m+\u001b[0m \u001b[0;34m'goyal-welch2022Monthly.csv'\u001b[0m\u001b[0;34m)\u001b[0m\u001b[0;34m\u001b[0m\u001b[0;34m\u001b[0m\u001b[0m\n\u001b[0m\u001b[1;32m      3\u001b[0m \u001b[0mdata\u001b[0m \u001b[0;34m=\u001b[0m \u001b[0msp500\u001b[0m\u001b[0;34m.\u001b[0m\u001b[0mloc\u001b[0m\u001b[0;34m[\u001b[0m\u001b[0;34m'201501'\u001b[0m\u001b[0;34m:\u001b[0m\u001b[0;34m'201812'\u001b[0m\u001b[0;34m]\u001b[0m\u001b[0;34m\u001b[0m\u001b[0;34m\u001b[0m\u001b[0m\n",
            "\u001b[0;31mNameError\u001b[0m: name 'pd' is not defined"
          ]
        }
      ],
      "source": [
        "#modeling\n",
        "sp500 = pd.read_csv(path_in_ + 'goyal-welch2022Monthly.csv')\n",
        "data = sp500.loc['201501':'201812']"
      ]
    },
    {
      "cell_type": "code",
      "execution_count": null,
      "metadata": {
        "colab": {
          "base_uri": "https://localhost:8080/",
          "height": 477
        },
        "id": "8sxaTxtnkv2p",
        "outputId": "d3623cb9-db28-47c0-8ebc-3ee30297bd65"
      },
      "outputs": [
        {
          "ename": "KeyError",
          "evalue": "'SP500'",
          "output_type": "error",
          "traceback": [
            "\u001b[0;31m---------------------------------------------------------------------------\u001b[0m",
            "\u001b[0;31mKeyError\u001b[0m                                  Traceback (most recent call last)",
            "\u001b[0;32m/usr/local/lib/python3.10/dist-packages/pandas/core/indexes/base.py\u001b[0m in \u001b[0;36mget_loc\u001b[0;34m(self, key)\u001b[0m\n\u001b[1;32m   3652\u001b[0m         \u001b[0;32mtry\u001b[0m\u001b[0;34m:\u001b[0m\u001b[0;34m\u001b[0m\u001b[0;34m\u001b[0m\u001b[0m\n\u001b[0;32m-> 3653\u001b[0;31m             \u001b[0;32mreturn\u001b[0m \u001b[0mself\u001b[0m\u001b[0;34m.\u001b[0m\u001b[0m_engine\u001b[0m\u001b[0;34m.\u001b[0m\u001b[0mget_loc\u001b[0m\u001b[0;34m(\u001b[0m\u001b[0mcasted_key\u001b[0m\u001b[0;34m)\u001b[0m\u001b[0;34m\u001b[0m\u001b[0;34m\u001b[0m\u001b[0m\n\u001b[0m\u001b[1;32m   3654\u001b[0m         \u001b[0;32mexcept\u001b[0m \u001b[0mKeyError\u001b[0m \u001b[0;32mas\u001b[0m \u001b[0merr\u001b[0m\u001b[0;34m:\u001b[0m\u001b[0;34m\u001b[0m\u001b[0;34m\u001b[0m\u001b[0m\n",
            "\u001b[0;32m/usr/local/lib/python3.10/dist-packages/pandas/_libs/index.pyx\u001b[0m in \u001b[0;36mpandas._libs.index.IndexEngine.get_loc\u001b[0;34m()\u001b[0m\n",
            "\u001b[0;32m/usr/local/lib/python3.10/dist-packages/pandas/_libs/index.pyx\u001b[0m in \u001b[0;36mpandas._libs.index.IndexEngine.get_loc\u001b[0;34m()\u001b[0m\n",
            "\u001b[0;32mpandas/_libs/hashtable_class_helper.pxi\u001b[0m in \u001b[0;36mpandas._libs.hashtable.PyObjectHashTable.get_item\u001b[0;34m()\u001b[0m\n",
            "\u001b[0;32mpandas/_libs/hashtable_class_helper.pxi\u001b[0m in \u001b[0;36mpandas._libs.hashtable.PyObjectHashTable.get_item\u001b[0;34m()\u001b[0m\n",
            "\u001b[0;31mKeyError\u001b[0m: 'SP500'",
            "\nThe above exception was the direct cause of the following exception:\n",
            "\u001b[0;31mKeyError\u001b[0m                                  Traceback (most recent call last)",
            "\u001b[0;32m<ipython-input-36-877c6cf1a0bb>\u001b[0m in \u001b[0;36m<cell line: 2>\u001b[0;34m()\u001b[0m\n\u001b[1;32m      1\u001b[0m \u001b[0mdata\u001b[0m \u001b[0;34m=\u001b[0m \u001b[0msp500\u001b[0m\u001b[0;34m.\u001b[0m\u001b[0mloc\u001b[0m\u001b[0;34m[\u001b[0m\u001b[0;34m'1925-01-01'\u001b[0m\u001b[0;34m:\u001b[0m\u001b[0;34m'2012-12-31'\u001b[0m\u001b[0;34m]\u001b[0m\u001b[0;34m\u001b[0m\u001b[0;34m\u001b[0m\u001b[0m\n\u001b[0;32m----> 2\u001b[0;31m \u001b[0mdata\u001b[0m\u001b[0;34m[\u001b[0m\u001b[0;34m'SP500'\u001b[0m\u001b[0;34m]\u001b[0m\u001b[0;34m.\u001b[0m\u001b[0mplot\u001b[0m\u001b[0;34m(\u001b[0m\u001b[0;34m)\u001b[0m\u001b[0;34m\u001b[0m\u001b[0;34m\u001b[0m\u001b[0m\n\u001b[0m",
            "\u001b[0;32m/usr/local/lib/python3.10/dist-packages/pandas/core/frame.py\u001b[0m in \u001b[0;36m__getitem__\u001b[0;34m(self, key)\u001b[0m\n\u001b[1;32m   3759\u001b[0m             \u001b[0;32mif\u001b[0m \u001b[0mself\u001b[0m\u001b[0;34m.\u001b[0m\u001b[0mcolumns\u001b[0m\u001b[0;34m.\u001b[0m\u001b[0mnlevels\u001b[0m \u001b[0;34m>\u001b[0m \u001b[0;36m1\u001b[0m\u001b[0;34m:\u001b[0m\u001b[0;34m\u001b[0m\u001b[0;34m\u001b[0m\u001b[0m\n\u001b[1;32m   3760\u001b[0m                 \u001b[0;32mreturn\u001b[0m \u001b[0mself\u001b[0m\u001b[0;34m.\u001b[0m\u001b[0m_getitem_multilevel\u001b[0m\u001b[0;34m(\u001b[0m\u001b[0mkey\u001b[0m\u001b[0;34m)\u001b[0m\u001b[0;34m\u001b[0m\u001b[0;34m\u001b[0m\u001b[0m\n\u001b[0;32m-> 3761\u001b[0;31m             \u001b[0mindexer\u001b[0m \u001b[0;34m=\u001b[0m \u001b[0mself\u001b[0m\u001b[0;34m.\u001b[0m\u001b[0mcolumns\u001b[0m\u001b[0;34m.\u001b[0m\u001b[0mget_loc\u001b[0m\u001b[0;34m(\u001b[0m\u001b[0mkey\u001b[0m\u001b[0;34m)\u001b[0m\u001b[0;34m\u001b[0m\u001b[0;34m\u001b[0m\u001b[0m\n\u001b[0m\u001b[1;32m   3762\u001b[0m             \u001b[0;32mif\u001b[0m \u001b[0mis_integer\u001b[0m\u001b[0;34m(\u001b[0m\u001b[0mindexer\u001b[0m\u001b[0;34m)\u001b[0m\u001b[0;34m:\u001b[0m\u001b[0;34m\u001b[0m\u001b[0;34m\u001b[0m\u001b[0m\n\u001b[1;32m   3763\u001b[0m                 \u001b[0mindexer\u001b[0m \u001b[0;34m=\u001b[0m \u001b[0;34m[\u001b[0m\u001b[0mindexer\u001b[0m\u001b[0;34m]\u001b[0m\u001b[0;34m\u001b[0m\u001b[0;34m\u001b[0m\u001b[0m\n",
            "\u001b[0;32m/usr/local/lib/python3.10/dist-packages/pandas/core/indexes/base.py\u001b[0m in \u001b[0;36mget_loc\u001b[0;34m(self, key)\u001b[0m\n\u001b[1;32m   3653\u001b[0m             \u001b[0;32mreturn\u001b[0m \u001b[0mself\u001b[0m\u001b[0;34m.\u001b[0m\u001b[0m_engine\u001b[0m\u001b[0;34m.\u001b[0m\u001b[0mget_loc\u001b[0m\u001b[0;34m(\u001b[0m\u001b[0mcasted_key\u001b[0m\u001b[0;34m)\u001b[0m\u001b[0;34m\u001b[0m\u001b[0;34m\u001b[0m\u001b[0m\n\u001b[1;32m   3654\u001b[0m         \u001b[0;32mexcept\u001b[0m \u001b[0mKeyError\u001b[0m \u001b[0;32mas\u001b[0m \u001b[0merr\u001b[0m\u001b[0;34m:\u001b[0m\u001b[0;34m\u001b[0m\u001b[0;34m\u001b[0m\u001b[0m\n\u001b[0;32m-> 3655\u001b[0;31m             \u001b[0;32mraise\u001b[0m \u001b[0mKeyError\u001b[0m\u001b[0;34m(\u001b[0m\u001b[0mkey\u001b[0m\u001b[0;34m)\u001b[0m \u001b[0;32mfrom\u001b[0m \u001b[0merr\u001b[0m\u001b[0;34m\u001b[0m\u001b[0;34m\u001b[0m\u001b[0m\n\u001b[0m\u001b[1;32m   3656\u001b[0m         \u001b[0;32mexcept\u001b[0m \u001b[0mTypeError\u001b[0m\u001b[0;34m:\u001b[0m\u001b[0;34m\u001b[0m\u001b[0;34m\u001b[0m\u001b[0m\n\u001b[1;32m   3657\u001b[0m             \u001b[0;31m# If we have a listlike key, _check_indexing_error will raise\u001b[0m\u001b[0;34m\u001b[0m\u001b[0;34m\u001b[0m\u001b[0m\n",
            "\u001b[0;31mKeyError\u001b[0m: 'SP500'"
          ]
        }
      ],
      "source": [
        "data = sp500.loc['1925-01-01':'2012-12-31']\n",
        "data['SP500'].plot()"
      ]
    },
    {
      "cell_type": "markdown",
      "metadata": {
        "id": "K5AIRlYqyA-o"
      },
      "source": [
        "## <a id='part4'>Part 4: Further Analysis</a>\n",
        "- **Objective**: Discuss modeling aspects and compare methods.\n",
        "- **Tasks:**\n",
        "  - Create an ARMA model and compare to the neural network and gaussian process.\n",
        "  - Discuss if bootstrapping would aid model performance and efficacy and what modeling would look like with the incorporation of stationary bootstrapping."
      ]
    },
    {
      "cell_type": "code",
      "execution_count": null,
      "metadata": {
        "id": "xWD19D6RyA-p"
      },
      "outputs": [],
      "source": [
        "#ARMA model\n"
      ]
    },
    {
      "cell_type": "code",
      "execution_count": null,
      "metadata": {
        "id": "KMfekTF8yA-p"
      },
      "outputs": [],
      "source": [
        "#Compare ARMA model to NN and Gaussian Process Regression\n"
      ]
    },
    {
      "cell_type": "code",
      "execution_count": null,
      "metadata": {
        "id": "SJt2lGsgyA-p"
      },
      "outputs": [],
      "source": [
        "#Stationary Bootstrapping\n"
      ]
    },
    {
      "cell_type": "code",
      "execution_count": null,
      "metadata": {
        "id": "ls6ra__pyA-q"
      },
      "outputs": [],
      "source": [
        "#Modeling with Stationary Bootstrapping (if necessary)\n"
      ]
    }
  ],
  "metadata": {
    "colab": {
      "machine_shape": "hm",
      "provenance": [],
      "toc_visible": true
    },
    "kernelspec": {
      "display_name": "Python 3",
      "name": "python3"
    },
    "language_info": {
      "codemirror_mode": {
        "name": "ipython",
        "version": 3
      },
      "file_extension": ".py",
      "mimetype": "text/x-python",
      "name": "python",
      "nbconvert_exporter": "python",
      "pygments_lexer": "ipython3",
      "version": "3.10.12"
    }
  },
  "nbformat": 4,
  "nbformat_minor": 0
}
