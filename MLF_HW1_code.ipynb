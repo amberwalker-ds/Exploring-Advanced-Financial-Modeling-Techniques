{
  "cells": [
    {
      "cell_type": "markdown",
      "metadata": {
        "id": "ruM8idCXyA-c"
      },
      "source": [
        "![bse_logo_textminingcourse](https://bse.eu/sites/default/files/bse_logo_small.png)\n",
        "\n",
        "# Machine Learning for Finance - Assignment 1\n",
        "\n",
        "### by Amber Walker and Clarice Mottet\n",
        "### All work was distributed and completed equally.\n",
        "\n",
        "0. **[Part 0: Set Up and Import](#part0)**\n",
        "- **Objective**: Initialize programming environment and data.\n",
        "- **Tasks:**\n",
        "  - Initialize libraries.\n",
        "  - Import data into the programming environment.\n",
        "  - Conduct preprocessing.\n",
        "\n",
        "1. **[Part 1: EWMA Based Variance](#part1)**\n",
        "- **Objective**: Compare two models to calculate EWMA Based Variance\n",
        "- **Tasks:**\n",
        "  - EWMA Equation: Use the equation covered in class to calculate EWMA based variance.\n",
        "  - EWMA Recursion: Use the recursive formula definition to calculate EWMA based variance.\n",
        "  - Compare the two methods to calculate EWMA based variance.\n",
        "\n",
        "2. **[Part 2: Causality Analysis](#part2)**\n",
        "- **Objective**: Conduct causality analysis with multiple lag variables and time frame windows.\n",
        "- **Tasks:**\n",
        "  - task list here\n",
        "\n",
        "3. **[Part 3: Modeling](#part3)**\n",
        "- **Objective**: Create a neural network and a gaussian process regression to model return, price, or direction (up or down).\n",
        "- **Tasks:**\n",
        "  - (I think we should predict a binary outcome of the stock direction goes up or down personally)\n",
        "  - Feature creation: Create multiple types of lag variables for different lag amounts.\n",
        "  - Feature selection: (I'd suggest a good old random forest cause I personally love a random forest feature selection or an XGBoost feature selection).\n",
        "  - Create a neural network, discuss hyper parameter tuning.\n",
        "  - Create a gaussian process, discuss hyper parameter tuning.\n",
        "\n",
        "4. **[Part 4: Further Analysis](#part4)**\n",
        "- **Objective**: Discuss modeling aspects and compare methods.\n",
        "- **Tasks:**\n",
        "  - Create an ARMA model and compare to the neural network and gaussian process.\n",
        "  - Discuss if bootstrapping would aid model performance and efficacy and what modeling would look like with the incorporation of stationary bootstrapping.\n"
      ]
    },
    {
      "cell_type": "markdown",
      "metadata": {
        "id": "rsl5YiZvyA-g"
      },
      "source": [
        "## <a id='part0'>Part 0: Set Up and Import</a>\n",
        "- **Objective**: Initialize programming environment and data.\n",
        "- **Tasks:**\n",
        "  - Initialize libraries.\n",
        "  - Import data into the programming environment.\n",
        "  - Conduct preprocessing."
      ]
    },
    {
      "cell_type": "code",
      "execution_count": 4,
      "metadata": {
        "colab": {
          "base_uri": "https://localhost:8080/"
        },
        "id": "iqtrIh5xyA-h",
        "outputId": "43b26305-6c61-4fb0-a814-6b62c35f8e5d"
      },
      "outputs": [],
      "source": [
        "#Libraries\n",
        "import pandas as pd\n",
        "import numpy as np\n",
        "import os\n",
        "import gc\n",
        "import datetime\n",
        "import yfinance as yf\n",
        "# from google.colab import drive\n",
        "# drive.mount('/content/drive')\n",
        "\n",
        "#Paths\n",
        "path_in_ = r'/home/clarice/Documents/VSCode/Term3/ML_Finance/MLF_HW1/inputs/'\n",
        "path_out_ = r'/home/clarice/Documents/VSCode/Term3/ML_Finance/MLF_HW1/outputs/'\n",
        "# path_in_ = r'/content/drive/MyDrive/ML_Finance/MLF_HW1/inputs/'\n",
        "# path_out_ = r'/content/drive/MyDrive/ML_Finance/MLF_HW1/outputs/'"
      ]
    },
    {
      "cell_type": "code",
      "execution_count": 5,
      "metadata": {
        "colab": {
          "base_uri": "https://localhost:8080/",
          "height": 300
        },
        "id": "FiuTg3q2yA-i",
        "outputId": "b6a2e9ff-3784-45c8-922c-e16e38cdaeea"
      },
      "outputs": [
        {
          "data": {
            "text/html": [
              "<div>\n",
              "<style scoped>\n",
              "    .dataframe tbody tr th:only-of-type {\n",
              "        vertical-align: middle;\n",
              "    }\n",
              "\n",
              "    .dataframe tbody tr th {\n",
              "        vertical-align: top;\n",
              "    }\n",
              "\n",
              "    .dataframe thead th {\n",
              "        text-align: right;\n",
              "    }\n",
              "</style>\n",
              "<table border=\"1\" class=\"dataframe\">\n",
              "  <thead>\n",
              "    <tr style=\"text-align: right;\">\n",
              "      <th></th>\n",
              "      <th>open</th>\n",
              "      <th>high</th>\n",
              "      <th>low</th>\n",
              "      <th>close</th>\n",
              "      <th>volume</th>\n",
              "      <th>adjusted</th>\n",
              "      <th>date</th>\n",
              "    </tr>\n",
              "  </thead>\n",
              "  <tbody>\n",
              "    <tr>\n",
              "      <th>count</th>\n",
              "      <td>69035.000000</td>\n",
              "      <td>69035.000000</td>\n",
              "      <td>69035.000000</td>\n",
              "      <td>69035.000000</td>\n",
              "      <td>6.903500e+04</td>\n",
              "      <td>69035.000000</td>\n",
              "      <td>70078</td>\n",
              "    </tr>\n",
              "    <tr>\n",
              "      <th>mean</th>\n",
              "      <td>11464.128611</td>\n",
              "      <td>11555.368887</td>\n",
              "      <td>11366.426424</td>\n",
              "      <td>11462.595335</td>\n",
              "      <td>4.028610e+08</td>\n",
              "      <td>11462.588664</td>\n",
              "      <td>2009-08-02 18:18:57.361225984</td>\n",
              "    </tr>\n",
              "    <tr>\n",
              "      <th>min</th>\n",
              "      <td>9.010000</td>\n",
              "      <td>9.310000</td>\n",
              "      <td>8.560000</td>\n",
              "      <td>9.140000</td>\n",
              "      <td>0.000000e+00</td>\n",
              "      <td>9.140000</td>\n",
              "      <td>1999-01-04 00:00:00</td>\n",
              "    </tr>\n",
              "    <tr>\n",
              "      <th>25%</th>\n",
              "      <td>1891.545044</td>\n",
              "      <td>1907.417481</td>\n",
              "      <td>1872.669983</td>\n",
              "      <td>1890.239990</td>\n",
              "      <td>8.400000e+03</td>\n",
              "      <td>1890.239990</td>\n",
              "      <td>2004-03-19 00:00:00</td>\n",
              "    </tr>\n",
              "    <tr>\n",
              "      <th>50%</th>\n",
              "      <td>6737.540039</td>\n",
              "      <td>6785.109863</td>\n",
              "      <td>6682.490234</td>\n",
              "      <td>6733.229980</td>\n",
              "      <td>4.237800e+06</td>\n",
              "      <td>6733.204102</td>\n",
              "      <td>2009-07-21 00:00:00</td>\n",
              "    </tr>\n",
              "    <tr>\n",
              "      <th>75%</th>\n",
              "      <td>11869.479981</td>\n",
              "      <td>11951.899903</td>\n",
              "      <td>11773.080078</td>\n",
              "      <td>11867.850098</td>\n",
              "      <td>1.535236e+08</td>\n",
              "      <td>11867.850098</td>\n",
              "      <td>2014-12-09 00:00:00</td>\n",
              "    </tr>\n",
              "    <tr>\n",
              "      <th>max</th>\n",
              "      <td>119528.000000</td>\n",
              "      <td>119593.000000</td>\n",
              "      <td>118108.000000</td>\n",
              "      <td>119528.000000</td>\n",
              "      <td>1.145623e+10</td>\n",
              "      <td>119528.000000</td>\n",
              "      <td>2020-04-30 00:00:00</td>\n",
              "    </tr>\n",
              "    <tr>\n",
              "      <th>std</th>\n",
              "      <td>15447.245090</td>\n",
              "      <td>15581.477219</td>\n",
              "      <td>15309.464143</td>\n",
              "      <td>15448.944086</td>\n",
              "      <td>9.914707e+08</td>\n",
              "      <td>15448.946777</td>\n",
              "      <td>NaN</td>\n",
              "    </tr>\n",
              "  </tbody>\n",
              "</table>\n",
              "</div>"
            ],
            "text/plain": [
              "                open           high            low          close  \\\n",
              "count   69035.000000   69035.000000   69035.000000   69035.000000   \n",
              "mean    11464.128611   11555.368887   11366.426424   11462.595335   \n",
              "min         9.010000       9.310000       8.560000       9.140000   \n",
              "25%      1891.545044    1907.417481    1872.669983    1890.239990   \n",
              "50%      6737.540039    6785.109863    6682.490234    6733.229980   \n",
              "75%     11869.479981   11951.899903   11773.080078   11867.850098   \n",
              "max    119528.000000  119593.000000  118108.000000  119528.000000   \n",
              "std     15447.245090   15581.477219   15309.464143   15448.944086   \n",
              "\n",
              "             volume       adjusted                           date  \n",
              "count  6.903500e+04   69035.000000                          70078  \n",
              "mean   4.028610e+08   11462.588664  2009-08-02 18:18:57.361225984  \n",
              "min    0.000000e+00       9.140000            1999-01-04 00:00:00  \n",
              "25%    8.400000e+03    1890.239990            2004-03-19 00:00:00  \n",
              "50%    4.237800e+06    6733.204102            2009-07-21 00:00:00  \n",
              "75%    1.535236e+08   11867.850098            2014-12-09 00:00:00  \n",
              "max    1.145623e+10  119528.000000            2020-04-30 00:00:00  \n",
              "std    9.914707e+08   15448.946777                            NaN  "
            ]
          },
          "execution_count": 5,
          "metadata": {},
          "output_type": "execute_result"
        }
      ],
      "source": [
        "#Import\n",
        "\n",
        "#using a text file we created from an R file\n",
        "df_market = pd.read_csv(path_in_ + 'WorldMarkets99_20.txt', sep = '|', dtype = str)\n",
        "df_market.columns = df_market.columns.str.lower().str.strip()\n",
        "df_market[['open','high','low','close','volume','adjusted']] = df_market[['open','high','low','close','volume','adjusted']].apply(pd.to_numeric)\n",
        "df_market['date'] = pd.to_datetime(df_market['date'])\n",
        "df_market.sort_values(by = ['market','date'], inplace = True)\n",
        "df_market.reset_index(drop = True, inplace = True)\n",
        "\n",
        "df_market.describe()"
      ]
    },
    {
      "cell_type": "code",
      "execution_count": null,
      "metadata": {
        "id": "PXtVkQ5nyA-k"
      },
      "outputs": [],
      "source": [
        "# df_view = df_market[df_market['market']=='BSESN'].copy()\n",
        "# df_view.to_excel(path_out_+'view_BSESN.xlsx')"
      ]
    },
    {
      "cell_type": "markdown",
      "metadata": {
        "id": "tKE5pj2myA-k"
      },
      "source": [
        "It looks like missing information above corresponds to bank holidays, I would do a .ffill() grouped by the column 'market' to fill in null values with the previous date's available market close.\n",
        "\n",
        "There are no weekend dates in the data, so I would add in dates that are missing and also do a .ffill() grouped by the column 'market' and also include in the data a one hot encoded field that is 1 for week day and 0 for weekend to account for this preprocessing. I think we're going to want all dates to build a model on.\n",
        "\n",
        ".ffill() is a forward fill so that when you fill in missing information for a date, its filling in the missing information with the last previous day's information."
      ]
    },
    {
      "cell_type": "markdown",
      "metadata": {
        "id": "ZriVPhFywn9r"
      },
      "source": [
        "First, we fetch the data from 12/30/98 for each market and add it to our df so that we can .ffill() that data to the first missing values. There is no data for the 31st, so we get the data for the 30th."
      ]
    },
    {
      "cell_type": "code",
      "execution_count": 6,
      "metadata": {
        "id": "cl9_AKrSIatF"
      },
      "outputs": [],
      "source": [
        "#fetch the data for 12/30/98\n",
        "market_symbols = [\n",
        "    \"^BSESN\", \"^BVSP\", \"^FTSE\", \"^GDAXI\", \"^GSPC\", \"^HSCE\",\n",
        "    \"^IBEX\", \"^JKSE\", \"^MXX\", \"^N225\", \"^TWII\", \"^VLIC\", \"^VIX\"\n",
        "]\n",
        "market_countries = [\n",
        "    \"India\", \"Brazil\", \"UK\", \"Germany\", \"USA\", \"China-Shanghai\",\n",
        "    \"Spain\", \"Indonesia\", \"Mexico\", \"Japan\", \"Taiwan\", \"VLIC\", \"VIX\"\n",
        "]\n",
        "\n",
        "start_date = datetime.datetime(1998, 12, 30)\n",
        "end_date = datetime.datetime(1998, 12, 31)\n",
        "\n",
        "# Function to retrieve and store market data using yfinance\n",
        "def get_market_data(symbols, start, end):\n",
        "    data = {}\n",
        "    for symbol in symbols:\n",
        "        try:\n",
        "            ticker = yf.Ticker(symbol)\n",
        "            data[symbol] = ticker.history(start=start, end=end, auto_adjust=False)\n",
        "        except Exception as e:\n",
        "            print(f\"Failed to retrieve data for {symbol}: {str(e)}\")\n",
        "    return data\n",
        "\n",
        "def prepare_data_for_merge(day_before_data):\n",
        "    all_data = []\n",
        "    for symbol, df in day_before_data.items():\n",
        "        if not df.empty:\n",
        "            df['market'] = symbol  # Add a 'Symbol' column to each DataFrame\n",
        "            all_data.append(df)\n",
        "    combined_df = pd.concat(all_data)\n",
        "    return combined_df"
      ]
    },
    {
      "cell_type": "code",
      "execution_count": 7,
      "metadata": {
        "id": "MU0mls0CLtff"
      },
      "outputs": [],
      "source": [
        "#get market data\n",
        "day_before_data = get_market_data(market_symbols, start_date, end_date)\n",
        "\n",
        "# for symbol in market_symbols:\n",
        "#   print(day_before_data[symbol])\n",
        "\n",
        "combined_df = prepare_data_for_merge(day_before_data)"
      ]
    },
    {
      "cell_type": "code",
      "execution_count": 8,
      "metadata": {
        "colab": {
          "base_uri": "https://localhost:8080/",
          "height": 342
        },
        "id": "ENOpJQhkOFL9",
        "outputId": "91a3a27b-4d0c-4904-e19a-ec68a5c9e118"
      },
      "outputs": [
        {
          "data": {
            "text/html": [
              "<div>\n",
              "<style scoped>\n",
              "    .dataframe tbody tr th:only-of-type {\n",
              "        vertical-align: middle;\n",
              "    }\n",
              "\n",
              "    .dataframe tbody tr th {\n",
              "        vertical-align: top;\n",
              "    }\n",
              "\n",
              "    .dataframe thead th {\n",
              "        text-align: right;\n",
              "    }\n",
              "</style>\n",
              "<table border=\"1\" class=\"dataframe\">\n",
              "  <thead>\n",
              "    <tr style=\"text-align: right;\">\n",
              "      <th></th>\n",
              "      <th>Open</th>\n",
              "      <th>High</th>\n",
              "      <th>Low</th>\n",
              "      <th>Close</th>\n",
              "      <th>Adj Close</th>\n",
              "      <th>Volume</th>\n",
              "      <th>Dividends</th>\n",
              "      <th>Stock Splits</th>\n",
              "      <th>market</th>\n",
              "      <th>Capital Gains</th>\n",
              "    </tr>\n",
              "    <tr>\n",
              "      <th>Date</th>\n",
              "      <th></th>\n",
              "      <th></th>\n",
              "      <th></th>\n",
              "      <th></th>\n",
              "      <th></th>\n",
              "      <th></th>\n",
              "      <th></th>\n",
              "      <th></th>\n",
              "      <th></th>\n",
              "      <th></th>\n",
              "    </tr>\n",
              "  </thead>\n",
              "  <tbody>\n",
              "    <tr>\n",
              "      <th>1998-12-30 00:00:00+05:30</th>\n",
              "      <td>3074.439941</td>\n",
              "      <td>3118.590088</td>\n",
              "      <td>3072.610107</td>\n",
              "      <td>3110.330078</td>\n",
              "      <td>3110.330078</td>\n",
              "      <td>0</td>\n",
              "      <td>0.0</td>\n",
              "      <td>0.0</td>\n",
              "      <td>^BSESN</td>\n",
              "      <td>NaN</td>\n",
              "    </tr>\n",
              "    <tr>\n",
              "      <th>1998-12-30 00:00:00-02:00</th>\n",
              "      <td>6715.000000</td>\n",
              "      <td>6865.000000</td>\n",
              "      <td>6712.000000</td>\n",
              "      <td>6784.000000</td>\n",
              "      <td>6784.000000</td>\n",
              "      <td>0</td>\n",
              "      <td>0.0</td>\n",
              "      <td>0.0</td>\n",
              "      <td>^BVSP</td>\n",
              "      <td>NaN</td>\n",
              "    </tr>\n",
              "    <tr>\n",
              "      <th>1998-12-30 00:00:00+00:00</th>\n",
              "      <td>5932.700195</td>\n",
              "      <td>5944.899902</td>\n",
              "      <td>5809.000000</td>\n",
              "      <td>5882.600098</td>\n",
              "      <td>5882.600098</td>\n",
              "      <td>0</td>\n",
              "      <td>0.0</td>\n",
              "      <td>0.0</td>\n",
              "      <td>^FTSE</td>\n",
              "      <td>NaN</td>\n",
              "    </tr>\n",
              "    <tr>\n",
              "      <th>1998-12-30 00:00:00+01:00</th>\n",
              "      <td>5054.859863</td>\n",
              "      <td>5089.229980</td>\n",
              "      <td>4999.709961</td>\n",
              "      <td>5006.569824</td>\n",
              "      <td>5006.569824</td>\n",
              "      <td>0</td>\n",
              "      <td>0.0</td>\n",
              "      <td>0.0</td>\n",
              "      <td>^GDAXI</td>\n",
              "      <td>NaN</td>\n",
              "    </tr>\n",
              "    <tr>\n",
              "      <th>1998-12-30 00:00:00-05:00</th>\n",
              "      <td>1241.810059</td>\n",
              "      <td>1244.930054</td>\n",
              "      <td>1231.199951</td>\n",
              "      <td>1231.930054</td>\n",
              "      <td>1231.930054</td>\n",
              "      <td>594220000</td>\n",
              "      <td>0.0</td>\n",
              "      <td>0.0</td>\n",
              "      <td>^GSPC</td>\n",
              "      <td>NaN</td>\n",
              "    </tr>\n",
              "  </tbody>\n",
              "</table>\n",
              "</div>"
            ],
            "text/plain": [
              "                                  Open         High          Low        Close  \\\n",
              "Date                                                                            \n",
              "1998-12-30 00:00:00+05:30  3074.439941  3118.590088  3072.610107  3110.330078   \n",
              "1998-12-30 00:00:00-02:00  6715.000000  6865.000000  6712.000000  6784.000000   \n",
              "1998-12-30 00:00:00+00:00  5932.700195  5944.899902  5809.000000  5882.600098   \n",
              "1998-12-30 00:00:00+01:00  5054.859863  5089.229980  4999.709961  5006.569824   \n",
              "1998-12-30 00:00:00-05:00  1241.810059  1244.930054  1231.199951  1231.930054   \n",
              "\n",
              "                             Adj Close     Volume  Dividends  Stock Splits  \\\n",
              "Date                                                                         \n",
              "1998-12-30 00:00:00+05:30  3110.330078          0        0.0           0.0   \n",
              "1998-12-30 00:00:00-02:00  6784.000000          0        0.0           0.0   \n",
              "1998-12-30 00:00:00+00:00  5882.600098          0        0.0           0.0   \n",
              "1998-12-30 00:00:00+01:00  5006.569824          0        0.0           0.0   \n",
              "1998-12-30 00:00:00-05:00  1231.930054  594220000        0.0           0.0   \n",
              "\n",
              "                           market  Capital Gains  \n",
              "Date                                              \n",
              "1998-12-30 00:00:00+05:30  ^BSESN            NaN  \n",
              "1998-12-30 00:00:00-02:00   ^BVSP            NaN  \n",
              "1998-12-30 00:00:00+00:00   ^FTSE            NaN  \n",
              "1998-12-30 00:00:00+01:00  ^GDAXI            NaN  \n",
              "1998-12-30 00:00:00-05:00   ^GSPC            NaN  "
            ]
          },
          "execution_count": 8,
          "metadata": {},
          "output_type": "execute_result"
        }
      ],
      "source": [
        "combined_df.head()"
      ]
    },
    {
      "cell_type": "code",
      "execution_count": 9,
      "metadata": {
        "colab": {
          "base_uri": "https://localhost:8080/",
          "height": 206
        },
        "id": "basK30FhOttq",
        "outputId": "64347577-9966-4c3b-d425-0d0e25877642"
      },
      "outputs": [
        {
          "data": {
            "text/html": [
              "<div>\n",
              "<style scoped>\n",
              "    .dataframe tbody tr th:only-of-type {\n",
              "        vertical-align: middle;\n",
              "    }\n",
              "\n",
              "    .dataframe tbody tr th {\n",
              "        vertical-align: top;\n",
              "    }\n",
              "\n",
              "    .dataframe thead th {\n",
              "        text-align: right;\n",
              "    }\n",
              "</style>\n",
              "<table border=\"1\" class=\"dataframe\">\n",
              "  <thead>\n",
              "    <tr style=\"text-align: right;\">\n",
              "      <th></th>\n",
              "      <th>date</th>\n",
              "      <th>open</th>\n",
              "      <th>high</th>\n",
              "      <th>low</th>\n",
              "      <th>close</th>\n",
              "      <th>adjusted</th>\n",
              "      <th>volume</th>\n",
              "      <th>market</th>\n",
              "    </tr>\n",
              "  </thead>\n",
              "  <tbody>\n",
              "    <tr>\n",
              "      <th>0</th>\n",
              "      <td>1998-12-29</td>\n",
              "      <td>3074.439941</td>\n",
              "      <td>3118.590088</td>\n",
              "      <td>3072.610107</td>\n",
              "      <td>3110.330078</td>\n",
              "      <td>3110.330078</td>\n",
              "      <td>0</td>\n",
              "      <td>BSESN</td>\n",
              "    </tr>\n",
              "    <tr>\n",
              "      <th>1</th>\n",
              "      <td>1998-12-30</td>\n",
              "      <td>6715.000000</td>\n",
              "      <td>6865.000000</td>\n",
              "      <td>6712.000000</td>\n",
              "      <td>6784.000000</td>\n",
              "      <td>6784.000000</td>\n",
              "      <td>0</td>\n",
              "      <td>BVSP</td>\n",
              "    </tr>\n",
              "    <tr>\n",
              "      <th>2</th>\n",
              "      <td>1998-12-30</td>\n",
              "      <td>5932.700195</td>\n",
              "      <td>5944.899902</td>\n",
              "      <td>5809.000000</td>\n",
              "      <td>5882.600098</td>\n",
              "      <td>5882.600098</td>\n",
              "      <td>0</td>\n",
              "      <td>FTSE</td>\n",
              "    </tr>\n",
              "    <tr>\n",
              "      <th>3</th>\n",
              "      <td>1998-12-29</td>\n",
              "      <td>5054.859863</td>\n",
              "      <td>5089.229980</td>\n",
              "      <td>4999.709961</td>\n",
              "      <td>5006.569824</td>\n",
              "      <td>5006.569824</td>\n",
              "      <td>0</td>\n",
              "      <td>GDAXI</td>\n",
              "    </tr>\n",
              "    <tr>\n",
              "      <th>4</th>\n",
              "      <td>1998-12-30</td>\n",
              "      <td>1241.810059</td>\n",
              "      <td>1244.930054</td>\n",
              "      <td>1231.199951</td>\n",
              "      <td>1231.930054</td>\n",
              "      <td>1231.930054</td>\n",
              "      <td>594220000</td>\n",
              "      <td>GSPC</td>\n",
              "    </tr>\n",
              "  </tbody>\n",
              "</table>\n",
              "</div>"
            ],
            "text/plain": [
              "         date         open         high          low        close  \\\n",
              "0  1998-12-29  3074.439941  3118.590088  3072.610107  3110.330078   \n",
              "1  1998-12-30  6715.000000  6865.000000  6712.000000  6784.000000   \n",
              "2  1998-12-30  5932.700195  5944.899902  5809.000000  5882.600098   \n",
              "3  1998-12-29  5054.859863  5089.229980  4999.709961  5006.569824   \n",
              "4  1998-12-30  1241.810059  1244.930054  1231.199951  1231.930054   \n",
              "\n",
              "      adjusted     volume market  \n",
              "0  3110.330078          0  BSESN  \n",
              "1  6784.000000          0   BVSP  \n",
              "2  5882.600098          0   FTSE  \n",
              "3  5006.569824          0  GDAXI  \n",
              "4  1231.930054  594220000   GSPC  "
            ]
          },
          "metadata": {},
          "output_type": "display_data"
        }
      ],
      "source": [
        "#clean data\n",
        "combined_df = combined_df.drop(columns=['Dividends', 'Stock Splits', 'Capital Gains'])\n",
        "combined_df = combined_df.reset_index()\n",
        "combined_df.rename(columns={'index': 'date'}, inplace=True)\n",
        "combined_df.rename(columns={'Adj Close': 'adjusted'}, inplace=True)\n",
        "combined_df.columns = combined_df.columns.str.lower()\n",
        "combined_df['market'] = combined_df['market'].str.replace('^', '', regex=False)\n",
        "\n",
        "#remove the timezone\n",
        "if 'date' in combined_df.columns:\n",
        "    combined_df['date'] = pd.to_datetime(combined_df['date'], utc=True)\n",
        "    combined_df['date'] = combined_df['date'].dt.tz_localize(None)\n",
        "    combined_df['date'] = combined_df['date'].dt.date\n",
        "\n",
        "display(combined_df.head())"
      ]
    },
    {
      "cell_type": "markdown",
      "metadata": {
        "id": "0sHFwhQn5Te2"
      },
      "source": [
        "### Add missing dates"
      ]
    },
    {
      "cell_type": "code",
      "execution_count": 10,
      "metadata": {
        "colab": {
          "base_uri": "https://localhost:8080/"
        },
        "id": "Qn-sZsFbSMDd",
        "outputId": "b56c5591-180c-4e9e-abb7-41144d9cd033"
      },
      "outputs": [
        {
          "name": "stdout",
          "output_type": "stream",
          "text": [
            "        date market\n",
            "0 1999-01-01  BSESN\n",
            "1 1999-01-02  BSESN\n",
            "2 1999-01-03  BSESN\n",
            "3 1999-01-04  BSESN\n",
            "4 1999-01-05  BSESN\n"
          ]
        }
      ],
      "source": [
        "#first we build a df with all dates (including weekends) for EACH market\n",
        "start_date = datetime.datetime(1999, 1, 1)\n",
        "end_date = datetime.datetime(2020, 4, 30)\n",
        "#date range\n",
        "dates = pd.date_range(start=start_date, end=end_date, freq='D')\n",
        "#all of the diff markets\n",
        "markets = df_market['market'].unique()\n",
        "#df build\n",
        "date_df = pd.DataFrame([(date, market) for market in markets for date in dates], columns=['date', 'market'])\n",
        "\n",
        "print(date_df.head())\n"
      ]
    },
    {
      "cell_type": "code",
      "execution_count": 11,
      "metadata": {
        "colab": {
          "base_uri": "https://localhost:8080/"
        },
        "id": "-RhRzSZOW_Za",
        "outputId": "a2f6d612-e46b-42b9-d692-bf27c8d275e3"
      },
      "outputs": [
        {
          "name": "stdout",
          "output_type": "stream",
          "text": [
            "<class 'pandas.core.frame.DataFrame'>\n",
            "RangeIndex: 101283 entries, 0 to 101282\n",
            "Data columns (total 8 columns):\n",
            " #   Column    Non-Null Count   Dtype         \n",
            "---  ------    --------------   -----         \n",
            " 0   date      101283 non-null  datetime64[ns]\n",
            " 1   market    101283 non-null  object        \n",
            " 2   open      69035 non-null   float64       \n",
            " 3   high      69035 non-null   float64       \n",
            " 4   low       69035 non-null   float64       \n",
            " 5   close     69035 non-null   float64       \n",
            " 6   volume    69035 non-null   float64       \n",
            " 7   adjusted  69035 non-null   float64       \n",
            "dtypes: datetime64[ns](1), float64(6), object(1)\n",
            "memory usage: 6.2+ MB\n"
          ]
        }
      ],
      "source": [
        "#merge the market df onto the date_df, so all dates are included\n",
        "df = date_df.merge(df_market, on=['date', 'market'], how='left')\n",
        "\n",
        "df.info()"
      ]
    },
    {
      "cell_type": "code",
      "execution_count": 12,
      "metadata": {
        "colab": {
          "base_uri": "https://localhost:8080/"
        },
        "id": "fIt7zxRcFkjG",
        "outputId": "43932c5d-f0a2-431e-b410-0b5a8c1713e4"
      },
      "outputs": [
        {
          "name": "stdout",
          "output_type": "stream",
          "text": [
            "             date market          open          high           low  \\\n",
            "101286 1998-12-29  GDAXI   5054.859863   5089.229980   4999.709961   \n",
            "101293 1998-12-29   TWII   6545.779785   6566.549805   6433.450195   \n",
            "101292 1998-12-29   N225  13832.320312  13913.549805  13812.870117   \n",
            "101283 1998-12-29  BSESN   3074.439941   3118.590088   3072.610107   \n",
            "101290 1998-12-29   JKSE    396.915985    398.037994    390.084015   \n",
            "\n",
            "               close     volume      adjusted  \n",
            "101286   5006.569824        0.0   5006.569824  \n",
            "101293   6462.029785        0.0   6462.005371  \n",
            "101292  13842.169922        0.0  13842.169922  \n",
            "101283   3110.330078        0.0   3110.330078  \n",
            "101290    398.037994  1748700.0    398.037994  \n"
          ]
        }
      ],
      "source": [
        "#add on the new data\n",
        "combined_df['date'] = pd.to_datetime(combined_df['date'])\n",
        "df['date'] = pd.to_datetime(df['date'])\n",
        "df = pd.concat([df, combined_df], ignore_index=True).copy()\n",
        "df = df.sort_values(by='date')\n",
        "\n",
        "print(df.head())"
      ]
    },
    {
      "cell_type": "markdown",
      "metadata": {
        "id": "ZLccb17lDMC0"
      },
      "source": [
        "### Forward Filling"
      ]
    },
    {
      "cell_type": "code",
      "execution_count": 13,
      "metadata": {
        "colab": {
          "base_uri": "https://localhost:8080/"
        },
        "id": "kz5c7NgQGRWK",
        "outputId": "535d85de-6452-4892-c7e6-3478837065d6"
      },
      "outputs": [
        {
          "name": "stdout",
          "output_type": "stream",
          "text": [
            "date        0\n",
            "market      0\n",
            "open        0\n",
            "high        0\n",
            "low         0\n",
            "close       0\n",
            "volume      0\n",
            "adjusted    0\n",
            "dtype: int64\n"
          ]
        },
        {
          "name": "stderr",
          "output_type": "stream",
          "text": [
            "/tmp/ipykernel_16017/1232200106.py:5: FutureWarning: SeriesGroupBy.fillna is deprecated and will be removed in a future version. Use obj.ffill() or obj.bfill() for forward or backward filling instead. If you want to fill with a single value, use Series.fillna instead\n",
            "  df[column] = df.groupby(['market'])[column].fillna(method='ffill')\n",
            "/tmp/ipykernel_16017/1232200106.py:5: FutureWarning: Series.fillna with 'method' is deprecated and will raise in a future version. Use obj.ffill() or obj.bfill() instead.\n",
            "  df[column] = df.groupby(['market'])[column].fillna(method='ffill')\n",
            "/tmp/ipykernel_16017/1232200106.py:5: FutureWarning: SeriesGroupBy.fillna is deprecated and will be removed in a future version. Use obj.ffill() or obj.bfill() for forward or backward filling instead. If you want to fill with a single value, use Series.fillna instead\n",
            "  df[column] = df.groupby(['market'])[column].fillna(method='ffill')\n",
            "/tmp/ipykernel_16017/1232200106.py:5: FutureWarning: Series.fillna with 'method' is deprecated and will raise in a future version. Use obj.ffill() or obj.bfill() instead.\n",
            "  df[column] = df.groupby(['market'])[column].fillna(method='ffill')\n",
            "/tmp/ipykernel_16017/1232200106.py:5: FutureWarning: SeriesGroupBy.fillna is deprecated and will be removed in a future version. Use obj.ffill() or obj.bfill() for forward or backward filling instead. If you want to fill with a single value, use Series.fillna instead\n",
            "  df[column] = df.groupby(['market'])[column].fillna(method='ffill')\n",
            "/tmp/ipykernel_16017/1232200106.py:5: FutureWarning: Series.fillna with 'method' is deprecated and will raise in a future version. Use obj.ffill() or obj.bfill() instead.\n",
            "  df[column] = df.groupby(['market'])[column].fillna(method='ffill')\n",
            "/tmp/ipykernel_16017/1232200106.py:5: FutureWarning: SeriesGroupBy.fillna is deprecated and will be removed in a future version. Use obj.ffill() or obj.bfill() for forward or backward filling instead. If you want to fill with a single value, use Series.fillna instead\n",
            "  df[column] = df.groupby(['market'])[column].fillna(method='ffill')\n",
            "/tmp/ipykernel_16017/1232200106.py:5: FutureWarning: Series.fillna with 'method' is deprecated and will raise in a future version. Use obj.ffill() or obj.bfill() instead.\n",
            "  df[column] = df.groupby(['market'])[column].fillna(method='ffill')\n",
            "/tmp/ipykernel_16017/1232200106.py:5: FutureWarning: SeriesGroupBy.fillna is deprecated and will be removed in a future version. Use obj.ffill() or obj.bfill() for forward or backward filling instead. If you want to fill with a single value, use Series.fillna instead\n",
            "  df[column] = df.groupby(['market'])[column].fillna(method='ffill')\n",
            "/tmp/ipykernel_16017/1232200106.py:5: FutureWarning: Series.fillna with 'method' is deprecated and will raise in a future version. Use obj.ffill() or obj.bfill() instead.\n",
            "  df[column] = df.groupby(['market'])[column].fillna(method='ffill')\n",
            "/tmp/ipykernel_16017/1232200106.py:5: FutureWarning: SeriesGroupBy.fillna is deprecated and will be removed in a future version. Use obj.ffill() or obj.bfill() for forward or backward filling instead. If you want to fill with a single value, use Series.fillna instead\n",
            "  df[column] = df.groupby(['market'])[column].fillna(method='ffill')\n",
            "/tmp/ipykernel_16017/1232200106.py:5: FutureWarning: Series.fillna with 'method' is deprecated and will raise in a future version. Use obj.ffill() or obj.bfill() instead.\n",
            "  df[column] = df.groupby(['market'])[column].fillna(method='ffill')\n"
          ]
        }
      ],
      "source": [
        "#df.sort_values(by=['market', 'date'], inplace=True)\n",
        "columns_to_impute = ['open', 'high', 'low', 'close', 'volume', 'adjusted']\n",
        "\n",
        "for column in columns_to_impute:\n",
        "    df[column] = df.groupby(['market'])[column].fillna(method='ffill')\n",
        "\n",
        "nulls = df.isna().sum()\n",
        "\n",
        "print(nulls)"
      ]
    },
    {
      "cell_type": "code",
      "execution_count": 14,
      "metadata": {
        "colab": {
          "base_uri": "https://localhost:8080/"
        },
        "id": "IhuT8Zpb6Hao",
        "outputId": "7b43c737-f77c-418a-fa2e-43c34d404e44"
      },
      "outputs": [
        {
          "name": "stdout",
          "output_type": "stream",
          "text": [
            "            date market         open          high          low        close  \\\n",
            "23373 1999-01-01  GDAXI  5054.859863   5089.229980  4999.709961  5006.569824   \n",
            "31164 1999-01-01   GSPC  1241.810059   1244.930054  1231.199951  1231.930054   \n",
            "38955 1999-01-01   HSCE  1715.569946   1733.900024  1706.359985  1724.469971   \n",
            "46746 1999-01-01   IBEX  9940.700195  10054.900391  9822.200195  9836.599609   \n",
            "93492 1999-01-01   VLIC   427.079987    428.839996   426.570007   428.420013   \n",
            "\n",
            "            volume     adjusted  \n",
            "23373          0.0  5006.569824  \n",
            "31164  594220000.0  1231.930054  \n",
            "38955          0.0  1724.469971  \n",
            "46746          0.0  9836.589844  \n",
            "93492    5970000.0   428.420013  \n"
          ]
        }
      ],
      "source": [
        "df_clean = df[df['date'] >= pd.Timestamp('1999-01-01')]\n",
        "print(df_clean.head())"
      ]
    },
    {
      "cell_type": "code",
      "execution_count": 15,
      "metadata": {
        "colab": {
          "base_uri": "https://localhost:8080/"
        },
        "id": "g9PxyfZrKM_2",
        "outputId": "ef8cc867-3d03-4998-b351-6aaa48a4e4b3"
      },
      "outputs": [
        {
          "name": "stdout",
          "output_type": "stream",
          "text": [
            "<class 'pandas.core.frame.DataFrame'>\n",
            "Index: 101283 entries, 23373 to 77909\n",
            "Data columns (total 8 columns):\n",
            " #   Column    Non-Null Count   Dtype         \n",
            "---  ------    --------------   -----         \n",
            " 0   date      101283 non-null  datetime64[ns]\n",
            " 1   market    101283 non-null  object        \n",
            " 2   open      101283 non-null  float64       \n",
            " 3   high      101283 non-null  float64       \n",
            " 4   low       101283 non-null  float64       \n",
            " 5   close     101283 non-null  float64       \n",
            " 6   volume    101283 non-null  float64       \n",
            " 7   adjusted  101283 non-null  float64       \n",
            "dtypes: datetime64[ns](1), float64(6), object(1)\n",
            "memory usage: 7.0+ MB\n"
          ]
        }
      ],
      "source": [
        "df_clean.info()"
      ]
    },
    {
      "cell_type": "markdown",
      "metadata": {
        "id": "Y_giqbASh8KQ"
      },
      "source": [
        "In pandas, the dayofweek attribute returns an integer for each date, where Monday is 0 and Sunday is 6. Saturday (5) and Sunday (6) can be identified as weekends."
      ]
    },
    {
      "cell_type": "code",
      "execution_count": 16,
      "metadata": {
        "colab": {
          "base_uri": "https://localhost:8080/"
        },
        "id": "yrcMzvt7iREZ",
        "outputId": "870b4a02-0b7d-464c-eb52-1f5706561f02"
      },
      "outputs": [
        {
          "name": "stdout",
          "output_type": "stream",
          "text": [
            "<bound method NDFrame.head of             date market          open          high           low  \\\n",
            "23373 1999-01-01  GDAXI   5054.859863   5089.229980   4999.709961   \n",
            "31164 1999-01-01   GSPC   1241.810059   1244.930054   1231.199951   \n",
            "38955 1999-01-01   HSCE   1715.569946   1733.900024   1706.359985   \n",
            "46746 1999-01-01   IBEX   9940.700195  10054.900391   9822.200195   \n",
            "93492 1999-01-01   VLIC    427.079987    428.839996    426.570007   \n",
            "...          ...    ...           ...           ...           ...   \n",
            "7790  2020-04-30  BSESN  32311.039063  32897.589844  32171.650391   \n",
            "93491 2020-04-30    VIX     32.480000     33.189999     30.709999   \n",
            "85700 2020-04-30   TWII  10656.400391  10794.830078  10656.400391   \n",
            "70118 2020-04-30    MXX  36095.718750  36976.648438  36095.718750   \n",
            "77909 2020-04-30   N225  20105.679688  20365.890625  20084.830078   \n",
            "\n",
            "              close       volume      adjusted  weekend  \n",
            "23373   5006.569824          0.0   5006.569824        0  \n",
            "31164   1231.930054  594220000.0   1231.930054        0  \n",
            "38955   1724.469971          0.0   1724.469971        0  \n",
            "46746   9836.599609          0.0   9836.589844        0  \n",
            "93492    428.420013    5970000.0    428.420013        0  \n",
            "...             ...          ...           ...      ...  \n",
            "7790   32720.160156      16000.0  32720.160156        0  \n",
            "93491     31.230000          0.0     31.230000        0  \n",
            "85700  10772.219727    3529100.0  10772.219727        0  \n",
            "70118  36870.089844  196287600.0  36870.089844        0  \n",
            "77909  20193.689453     103400.0  20193.689453        0  \n",
            "\n",
            "[101283 rows x 9 columns]>\n"
          ]
        },
        {
          "name": "stderr",
          "output_type": "stream",
          "text": [
            "/tmp/ipykernel_16017/2837093159.py:2: SettingWithCopyWarning: \n",
            "A value is trying to be set on a copy of a slice from a DataFrame.\n",
            "Try using .loc[row_indexer,col_indexer] = value instead\n",
            "\n",
            "See the caveats in the documentation: https://pandas.pydata.org/pandas-docs/stable/user_guide/indexing.html#returning-a-view-versus-a-copy\n",
            "  df_clean['weekend'] = (df_clean['date'].dt.dayofweek > 4).astype(int)\n"
          ]
        }
      ],
      "source": [
        "#we use the pandas dayofweek attribute to create a new feature indicating whether the day is on the weekend or not\n",
        "df_clean['weekend'] = (df_clean['date'].dt.dayofweek > 4).astype(int)\n",
        "\n",
        "print(df_clean.head)"
      ]
    },
    {
      "cell_type": "code",
      "execution_count": 17,
      "metadata": {
        "colab": {
          "base_uri": "https://localhost:8080/"
        },
        "id": "ZuKAbxgMFhrt",
        "outputId": "f3058b12-fbbe-4011-d17a-a00ce252a101"
      },
      "outputs": [
        {
          "name": "stdout",
          "output_type": "stream",
          "text": [
            "date        0\n",
            "market      0\n",
            "open        0\n",
            "high        0\n",
            "low         0\n",
            "close       0\n",
            "volume      0\n",
            "adjusted    0\n",
            "weekend     0\n",
            "dtype: int64\n"
          ]
        }
      ],
      "source": [
        "nulls = df_clean.isna().sum()\n",
        "\n",
        "print(nulls)"
      ]
    },
    {
      "cell_type": "code",
      "execution_count": null,
      "metadata": {
        "id": "HtW92E6uKWY_"
      },
      "outputs": [],
      "source": [
        "# df_clean.to_csv(path_out_ + 'df_clean.csv', index=False)"
      ]
    },
    {
      "cell_type": "markdown",
      "metadata": {
        "id": "lPyhPF58yA-l"
      },
      "source": [
        "## <a id='part1'>Part 1: EWMA Based Variance</a>\n",
        "- **Objective**: Compare two models to calculate EWMA Based Variance\n",
        "- **Tasks:**\n",
        "  - EWMA Equation: Use the equation covered in class to calculate EWMA based variance.\n",
        "  - EWMA Recursion: Use the recursive formula definition to calculate EWMA based variance.\n",
        "  - Compare the two methods to calculate EWMA based variance."
      ]
    },
    {
      "cell_type": "code",
      "execution_count": null,
      "metadata": {},
      "outputs": [],
      "source": [
        "#Import in the cleaned stock data\n",
        "\n",
        "df_stocks = pd.read_csv(path_out_ + 'df_clean.csv', dtype = str)\n",
        "\n",
        "df_stocks.columns"
      ]
    },
    {
      "cell_type": "code",
      "execution_count": null,
      "metadata": {
        "id": "_XGkkv3ZyA-l"
      },
      "outputs": [],
      "source": [
        "#EWMA Equation\n"
      ]
    },
    {
      "cell_type": "code",
      "execution_count": null,
      "metadata": {
        "id": "i9qFX0EPyA-m"
      },
      "outputs": [],
      "source": [
        "#EWMA Recusion\n"
      ]
    },
    {
      "cell_type": "code",
      "execution_count": null,
      "metadata": {
        "id": "D1Nx7W9gyA-m"
      },
      "outputs": [],
      "source": [
        "#Compare equation to recursion\n"
      ]
    },
    {
      "cell_type": "markdown",
      "metadata": {
        "id": "Y5Z-b4rqyA-n"
      },
      "source": [
        "## <a id='part2'>Part 2: Causality Analysis</a>\n",
        "- **Objective**: Conduct causality analysis with multiple lag variables and time frame windows.\n",
        "- **Tasks:**\n",
        "  - task list here"
      ]
    },
    {
      "cell_type": "code",
      "execution_count": null,
      "metadata": {
        "id": "2kalgVYhyA-n"
      },
      "outputs": [],
      "source": [
        "#Causality analysis\n"
      ]
    },
    {
      "cell_type": "markdown",
      "metadata": {
        "id": "ba-xiMQpyA-n"
      },
      "source": [
        "## <a id='part3'>Part 3: Modeling</a>\n",
        "- **Objective**: Create a neural network and a gaussian process regression to model return, price, or direction (up or down).\n",
        "- **Tasks:**\n",
        "  - (I think we should predict a binary outcome of the stock direction goes up or down personally)\n",
        "  - Feature creation: Create multiple types of lag variables for different lag amounts.\n",
        "  - Feature selection: (I'd suggest a good old random forest cause I personally love a random forest feature selection or an XGBoost feature selection).\n",
        "  - Create a neural network, discuss hyper parameter tuning.\n",
        "  - Create a gaussian process, discuss hyper parameter tuning.\n",
        "\n",
        "  2018/01 - 2021/12\n",
        "dp, svar, bm"
      ]
    },
    {
      "cell_type": "code",
      "execution_count": 1,
      "metadata": {
        "colab": {
          "base_uri": "https://localhost:8080/",
          "height": 176
        },
        "id": "yNN-JPjFyA-o",
        "outputId": "08b68d1c-e9b0-4798-c4c6-c4b041b0ed23"
      },
      "outputs": [
        {
          "ename": "NameError",
          "evalue": "name 'pd' is not defined",
          "output_type": "error",
          "traceback": [
            "\u001b[0;31m---------------------------------------------------------------------------\u001b[0m",
            "\u001b[0;31mNameError\u001b[0m                                 Traceback (most recent call last)",
            "\u001b[0;32m<ipython-input-1-3a7eb233f8c1>\u001b[0m in \u001b[0;36m<cell line: 2>\u001b[0;34m()\u001b[0m\n\u001b[1;32m      1\u001b[0m \u001b[0;31m#modeling\u001b[0m\u001b[0;34m\u001b[0m\u001b[0;34m\u001b[0m\u001b[0m\n\u001b[0;32m----> 2\u001b[0;31m \u001b[0msp500\u001b[0m \u001b[0;34m=\u001b[0m \u001b[0mpd\u001b[0m\u001b[0;34m.\u001b[0m\u001b[0mread_csv\u001b[0m\u001b[0;34m(\u001b[0m\u001b[0mpath_in_\u001b[0m \u001b[0;34m+\u001b[0m \u001b[0;34m'goyal-welch2022Monthly.csv'\u001b[0m\u001b[0;34m)\u001b[0m\u001b[0;34m\u001b[0m\u001b[0;34m\u001b[0m\u001b[0m\n\u001b[0m\u001b[1;32m      3\u001b[0m \u001b[0mdata\u001b[0m \u001b[0;34m=\u001b[0m \u001b[0msp500\u001b[0m\u001b[0;34m.\u001b[0m\u001b[0mloc\u001b[0m\u001b[0;34m[\u001b[0m\u001b[0;34m'201501'\u001b[0m\u001b[0;34m:\u001b[0m\u001b[0;34m'201812'\u001b[0m\u001b[0;34m]\u001b[0m\u001b[0;34m\u001b[0m\u001b[0;34m\u001b[0m\u001b[0m\n",
            "\u001b[0;31mNameError\u001b[0m: name 'pd' is not defined"
          ]
        }
      ],
      "source": [
        "#modeling\n",
        "sp500 = pd.read_csv(path_in_ + 'goyal-welch2022Monthly.csv')\n",
        "data = sp500.loc['201501':'201812']"
      ]
    },
    {
      "cell_type": "code",
      "execution_count": null,
      "metadata": {
        "colab": {
          "base_uri": "https://localhost:8080/",
          "height": 477
        },
        "id": "8sxaTxtnkv2p",
        "outputId": "d3623cb9-db28-47c0-8ebc-3ee30297bd65"
      },
      "outputs": [
        {
          "ename": "KeyError",
          "evalue": "'SP500'",
          "output_type": "error",
          "traceback": [
            "\u001b[0;31m---------------------------------------------------------------------------\u001b[0m",
            "\u001b[0;31mKeyError\u001b[0m                                  Traceback (most recent call last)",
            "\u001b[0;32m/usr/local/lib/python3.10/dist-packages/pandas/core/indexes/base.py\u001b[0m in \u001b[0;36mget_loc\u001b[0;34m(self, key)\u001b[0m\n\u001b[1;32m   3652\u001b[0m         \u001b[0;32mtry\u001b[0m\u001b[0;34m:\u001b[0m\u001b[0;34m\u001b[0m\u001b[0;34m\u001b[0m\u001b[0m\n\u001b[0;32m-> 3653\u001b[0;31m             \u001b[0;32mreturn\u001b[0m \u001b[0mself\u001b[0m\u001b[0;34m.\u001b[0m\u001b[0m_engine\u001b[0m\u001b[0;34m.\u001b[0m\u001b[0mget_loc\u001b[0m\u001b[0;34m(\u001b[0m\u001b[0mcasted_key\u001b[0m\u001b[0;34m)\u001b[0m\u001b[0;34m\u001b[0m\u001b[0;34m\u001b[0m\u001b[0m\n\u001b[0m\u001b[1;32m   3654\u001b[0m         \u001b[0;32mexcept\u001b[0m \u001b[0mKeyError\u001b[0m \u001b[0;32mas\u001b[0m \u001b[0merr\u001b[0m\u001b[0;34m:\u001b[0m\u001b[0;34m\u001b[0m\u001b[0;34m\u001b[0m\u001b[0m\n",
            "\u001b[0;32m/usr/local/lib/python3.10/dist-packages/pandas/_libs/index.pyx\u001b[0m in \u001b[0;36mpandas._libs.index.IndexEngine.get_loc\u001b[0;34m()\u001b[0m\n",
            "\u001b[0;32m/usr/local/lib/python3.10/dist-packages/pandas/_libs/index.pyx\u001b[0m in \u001b[0;36mpandas._libs.index.IndexEngine.get_loc\u001b[0;34m()\u001b[0m\n",
            "\u001b[0;32mpandas/_libs/hashtable_class_helper.pxi\u001b[0m in \u001b[0;36mpandas._libs.hashtable.PyObjectHashTable.get_item\u001b[0;34m()\u001b[0m\n",
            "\u001b[0;32mpandas/_libs/hashtable_class_helper.pxi\u001b[0m in \u001b[0;36mpandas._libs.hashtable.PyObjectHashTable.get_item\u001b[0;34m()\u001b[0m\n",
            "\u001b[0;31mKeyError\u001b[0m: 'SP500'",
            "\nThe above exception was the direct cause of the following exception:\n",
            "\u001b[0;31mKeyError\u001b[0m                                  Traceback (most recent call last)",
            "\u001b[0;32m<ipython-input-36-877c6cf1a0bb>\u001b[0m in \u001b[0;36m<cell line: 2>\u001b[0;34m()\u001b[0m\n\u001b[1;32m      1\u001b[0m \u001b[0mdata\u001b[0m \u001b[0;34m=\u001b[0m \u001b[0msp500\u001b[0m\u001b[0;34m.\u001b[0m\u001b[0mloc\u001b[0m\u001b[0;34m[\u001b[0m\u001b[0;34m'1925-01-01'\u001b[0m\u001b[0;34m:\u001b[0m\u001b[0;34m'2012-12-31'\u001b[0m\u001b[0;34m]\u001b[0m\u001b[0;34m\u001b[0m\u001b[0;34m\u001b[0m\u001b[0m\n\u001b[0;32m----> 2\u001b[0;31m \u001b[0mdata\u001b[0m\u001b[0;34m[\u001b[0m\u001b[0;34m'SP500'\u001b[0m\u001b[0;34m]\u001b[0m\u001b[0;34m.\u001b[0m\u001b[0mplot\u001b[0m\u001b[0;34m(\u001b[0m\u001b[0;34m)\u001b[0m\u001b[0;34m\u001b[0m\u001b[0;34m\u001b[0m\u001b[0m\n\u001b[0m",
            "\u001b[0;32m/usr/local/lib/python3.10/dist-packages/pandas/core/frame.py\u001b[0m in \u001b[0;36m__getitem__\u001b[0;34m(self, key)\u001b[0m\n\u001b[1;32m   3759\u001b[0m             \u001b[0;32mif\u001b[0m \u001b[0mself\u001b[0m\u001b[0;34m.\u001b[0m\u001b[0mcolumns\u001b[0m\u001b[0;34m.\u001b[0m\u001b[0mnlevels\u001b[0m \u001b[0;34m>\u001b[0m \u001b[0;36m1\u001b[0m\u001b[0;34m:\u001b[0m\u001b[0;34m\u001b[0m\u001b[0;34m\u001b[0m\u001b[0m\n\u001b[1;32m   3760\u001b[0m                 \u001b[0;32mreturn\u001b[0m \u001b[0mself\u001b[0m\u001b[0;34m.\u001b[0m\u001b[0m_getitem_multilevel\u001b[0m\u001b[0;34m(\u001b[0m\u001b[0mkey\u001b[0m\u001b[0;34m)\u001b[0m\u001b[0;34m\u001b[0m\u001b[0;34m\u001b[0m\u001b[0m\n\u001b[0;32m-> 3761\u001b[0;31m             \u001b[0mindexer\u001b[0m \u001b[0;34m=\u001b[0m \u001b[0mself\u001b[0m\u001b[0;34m.\u001b[0m\u001b[0mcolumns\u001b[0m\u001b[0;34m.\u001b[0m\u001b[0mget_loc\u001b[0m\u001b[0;34m(\u001b[0m\u001b[0mkey\u001b[0m\u001b[0;34m)\u001b[0m\u001b[0;34m\u001b[0m\u001b[0;34m\u001b[0m\u001b[0m\n\u001b[0m\u001b[1;32m   3762\u001b[0m             \u001b[0;32mif\u001b[0m \u001b[0mis_integer\u001b[0m\u001b[0;34m(\u001b[0m\u001b[0mindexer\u001b[0m\u001b[0;34m)\u001b[0m\u001b[0;34m:\u001b[0m\u001b[0;34m\u001b[0m\u001b[0;34m\u001b[0m\u001b[0m\n\u001b[1;32m   3763\u001b[0m                 \u001b[0mindexer\u001b[0m \u001b[0;34m=\u001b[0m \u001b[0;34m[\u001b[0m\u001b[0mindexer\u001b[0m\u001b[0;34m]\u001b[0m\u001b[0;34m\u001b[0m\u001b[0;34m\u001b[0m\u001b[0m\n",
            "\u001b[0;32m/usr/local/lib/python3.10/dist-packages/pandas/core/indexes/base.py\u001b[0m in \u001b[0;36mget_loc\u001b[0;34m(self, key)\u001b[0m\n\u001b[1;32m   3653\u001b[0m             \u001b[0;32mreturn\u001b[0m \u001b[0mself\u001b[0m\u001b[0;34m.\u001b[0m\u001b[0m_engine\u001b[0m\u001b[0;34m.\u001b[0m\u001b[0mget_loc\u001b[0m\u001b[0;34m(\u001b[0m\u001b[0mcasted_key\u001b[0m\u001b[0;34m)\u001b[0m\u001b[0;34m\u001b[0m\u001b[0;34m\u001b[0m\u001b[0m\n\u001b[1;32m   3654\u001b[0m         \u001b[0;32mexcept\u001b[0m \u001b[0mKeyError\u001b[0m \u001b[0;32mas\u001b[0m \u001b[0merr\u001b[0m\u001b[0;34m:\u001b[0m\u001b[0;34m\u001b[0m\u001b[0;34m\u001b[0m\u001b[0m\n\u001b[0;32m-> 3655\u001b[0;31m             \u001b[0;32mraise\u001b[0m \u001b[0mKeyError\u001b[0m\u001b[0;34m(\u001b[0m\u001b[0mkey\u001b[0m\u001b[0;34m)\u001b[0m \u001b[0;32mfrom\u001b[0m \u001b[0merr\u001b[0m\u001b[0;34m\u001b[0m\u001b[0;34m\u001b[0m\u001b[0m\n\u001b[0m\u001b[1;32m   3656\u001b[0m         \u001b[0;32mexcept\u001b[0m \u001b[0mTypeError\u001b[0m\u001b[0;34m:\u001b[0m\u001b[0;34m\u001b[0m\u001b[0;34m\u001b[0m\u001b[0m\n\u001b[1;32m   3657\u001b[0m             \u001b[0;31m# If we have a listlike key, _check_indexing_error will raise\u001b[0m\u001b[0;34m\u001b[0m\u001b[0;34m\u001b[0m\u001b[0m\n",
            "\u001b[0;31mKeyError\u001b[0m: 'SP500'"
          ]
        }
      ],
      "source": [
        "data = sp500.loc['1925-01-01':'2012-12-31']\n",
        "data['SP500'].plot()"
      ]
    },
    {
      "cell_type": "markdown",
      "metadata": {
        "id": "K5AIRlYqyA-o"
      },
      "source": [
        "## <a id='part4'>Part 4: Further Analysis</a>\n",
        "- **Objective**: Discuss modeling aspects and compare methods.\n",
        "- **Tasks:**\n",
        "  - Create an ARMA model and compare to the neural network and gaussian process.\n",
        "  - Discuss if bootstrapping would aid model performance and efficacy and what modeling would look like with the incorporation of stationary bootstrapping."
      ]
    },
    {
      "cell_type": "code",
      "execution_count": null,
      "metadata": {
        "id": "xWD19D6RyA-p"
      },
      "outputs": [],
      "source": [
        "#ARMA model\n"
      ]
    },
    {
      "cell_type": "code",
      "execution_count": null,
      "metadata": {
        "id": "KMfekTF8yA-p"
      },
      "outputs": [],
      "source": [
        "#Compare ARMA model to NN and Gaussian Process Regression\n"
      ]
    },
    {
      "cell_type": "code",
      "execution_count": null,
      "metadata": {
        "id": "SJt2lGsgyA-p"
      },
      "outputs": [],
      "source": [
        "#Stationary Bootstrapping\n"
      ]
    },
    {
      "cell_type": "code",
      "execution_count": null,
      "metadata": {
        "id": "ls6ra__pyA-q"
      },
      "outputs": [],
      "source": [
        "#Modeling with Stationary Bootstrapping (if necessary)\n"
      ]
    }
  ],
  "metadata": {
    "colab": {
      "machine_shape": "hm",
      "provenance": [],
      "toc_visible": true
    },
    "kernelspec": {
      "display_name": "Python 3",
      "name": "python3"
    },
    "language_info": {
      "codemirror_mode": {
        "name": "ipython",
        "version": 3
      },
      "file_extension": ".py",
      "mimetype": "text/x-python",
      "name": "python",
      "nbconvert_exporter": "python",
      "pygments_lexer": "ipython3",
      "version": "3.10.12"
    }
  },
  "nbformat": 4,
  "nbformat_minor": 0
}
