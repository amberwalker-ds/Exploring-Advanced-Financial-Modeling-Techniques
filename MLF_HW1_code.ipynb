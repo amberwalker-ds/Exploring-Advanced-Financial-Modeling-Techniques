{
 "cells": [
  {
   "cell_type": "markdown",
   "metadata": {},
   "source": [
    "![bse_logo_textminingcourse](https://bse.eu/sites/default/files/bse_logo_small.png)\n",
    "\n",
    "# Machine Learning for Finance - Assignment 1\n",
    "\n",
    "### by Amber Walker and Clarice Mottet\n",
    "### All work was distributed and completed equally.\n",
    "\n",
    "0. **[Part 0: Set Up and Import](#part0)**\n",
    "- **Objective**: Initialize programming environment and data.\n",
    "- **Tasks:**\n",
    "  - Initialize libraries.\n",
    "  - Import data into the programming environment.\n",
    "  - Conduct preprocessing.\n",
    "\n",
    "1. **[Part 1: EWMA Based Variance](#part1)**\n",
    "- **Objective**: Compare two models to calculate EWMA Based Variance\n",
    "- **Tasks:**\n",
    "  - EWMA Equation: Use the equation covered in class to calculate EWMA based variance.\n",
    "  - EWMA Recursion: Use the recursive formula definition to calculate EWMA based variance.\n",
    "  - Compare the two methods to calculate EWMA based variance.\n",
    "\n",
    "2. **[Part 2: Causality Analysis](#part2)**\n",
    "- **Objective**: Conduct causality analysis with multiple lag variables and time frame windows.\n",
    "- **Tasks:**\n",
    "  - task list here\n",
    "\n",
    "3. **[Part 3: Modeling](#part3)**\n",
    "- **Objective**: Create a neural network and a gaussian process regression to model return, price, or direction (up or down).\n",
    "- **Tasks:**\n",
    "  - (I think we should predict a binary outcome of the stock direction goes up or down personally)\n",
    "  - Feature creation: Create multiple types of lag variables for different lag amounts.\n",
    "  - Feature selection: (I'd suggest a good old random forest cause I personally love a random forest feature selection or an XGBoost feature selection).\n",
    "  - Create a neural network, discuss hyper parameter tuning.\n",
    "  - Create a gaussian process, discuss hyper parameter tuning.\n",
    "\n",
    "4. **[Part 4: Further Analysis](#part4)**\n",
    "- **Objective**: Discuss modeling aspects and compare methods.\n",
    "- **Tasks:** \n",
    "  - Create an ARMA model and compare to the neural network and gaussian process.\n",
    "  - Discuss if bootstrapping would aid model performance and efficacy and what modeling would look like with the incorporation of stationary bootstrapping.\n"
   ]
  },
  {
   "cell_type": "markdown",
   "metadata": {},
   "source": [
    "## <a id='part0'>Part 0: Set Up and Import</a>\n",
    "- **Objective**: Initialize programming environment and data.\n",
    "- **Tasks:**\n",
    "  - Initialize libraries.\n",
    "  - Import data into the programming environment.\n",
    "  - Conduct preprocessing."
   ]
  },
  {
   "cell_type": "code",
   "execution_count": null,
   "metadata": {},
   "outputs": [],
   "source": [
    "#Libraries\n"
   ]
  },
  {
   "cell_type": "code",
   "execution_count": null,
   "metadata": {},
   "outputs": [],
   "source": [
    "#Import\n"
   ]
  },
  {
   "cell_type": "code",
   "execution_count": null,
   "metadata": {},
   "outputs": [],
   "source": [
    "#Preprocessing\n"
   ]
  },
  {
   "cell_type": "markdown",
   "metadata": {},
   "source": [
    "## <a id='part1'>Part 1: EWMA Based Variance</a>\n",
    "- **Objective**: Compare two models to calculate EWMA Based Variance\n",
    "- **Tasks:**\n",
    "  - EWMA Equation: Use the equation covered in class to calculate EWMA based variance.\n",
    "  - EWMA Recursion: Use the recursive formula definition to calculate EWMA based variance.\n",
    "  - Compare the two methods to calculate EWMA based variance."
   ]
  },
  {
   "cell_type": "code",
   "execution_count": null,
   "metadata": {},
   "outputs": [],
   "source": [
    "#EWMA Equation\n"
   ]
  },
  {
   "cell_type": "code",
   "execution_count": null,
   "metadata": {},
   "outputs": [],
   "source": [
    "#EWMA Recusion\n"
   ]
  },
  {
   "cell_type": "code",
   "execution_count": null,
   "metadata": {},
   "outputs": [],
   "source": [
    "#Compare equation to recursion\n"
   ]
  },
  {
   "cell_type": "markdown",
   "metadata": {},
   "source": [
    "## <a id='part2'>Part 2: Causality Analysis</a>\n",
    "- **Objective**: Conduct causality analysis with multiple lag variables and time frame windows.\n",
    "- **Tasks:**\n",
    "  - task list here"
   ]
  },
  {
   "cell_type": "code",
   "execution_count": null,
   "metadata": {},
   "outputs": [],
   "source": [
    "#Causality analysis\n"
   ]
  },
  {
   "cell_type": "markdown",
   "metadata": {},
   "source": [
    "## <a id='part3'>Part 3: Modeling</a>\n",
    "- **Objective**: Create a neural network and a gaussian process regression to model return, price, or direction (up or down).\n",
    "- **Tasks:**\n",
    "  - (I think we should predict a binary outcome of the stock direction goes up or down personally)\n",
    "  - Feature creation: Create multiple types of lag variables for different lag amounts.\n",
    "  - Feature selection: (I'd suggest a good old random forest cause I personally love a random forest feature selection or an XGBoost feature selection).\n",
    "  - Create a neural network, discuss hyper parameter tuning.\n",
    "  - Create a gaussian process, discuss hyper parameter tuning."
   ]
  },
  {
   "cell_type": "code",
   "execution_count": null,
   "metadata": {},
   "outputs": [],
   "source": [
    "#modeling\n"
   ]
  },
  {
   "cell_type": "markdown",
   "metadata": {},
   "source": [
    "## <a id='part4'>Part 4: Further Analysis</a>\n",
    "- **Objective**: Discuss modeling aspects and compare methods.\n",
    "- **Tasks:** \n",
    "  - Create an ARMA model and compare to the neural network and gaussian process.\n",
    "  - Discuss if bootstrapping would aid model performance and efficacy and what modeling would look like with the incorporation of stationary bootstrapping."
   ]
  },
  {
   "cell_type": "code",
   "execution_count": null,
   "metadata": {},
   "outputs": [],
   "source": [
    "#ARMA model\n"
   ]
  },
  {
   "cell_type": "code",
   "execution_count": null,
   "metadata": {},
   "outputs": [],
   "source": [
    "#Compare ARMA model to NN and Gaussian Process Regression\n"
   ]
  },
  {
   "cell_type": "code",
   "execution_count": null,
   "metadata": {},
   "outputs": [],
   "source": [
    "#Stationary Bootstrapping\n"
   ]
  },
  {
   "cell_type": "code",
   "execution_count": null,
   "metadata": {},
   "outputs": [],
   "source": [
    "#Modeling with Stationary Bootstrapping (if necessary)\n"
   ]
  }
 ],
 "metadata": {
  "language_info": {
   "name": "python"
  }
 },
 "nbformat": 4,
 "nbformat_minor": 2
}
